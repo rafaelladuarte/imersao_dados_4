{
 "cells": [
  {
   "cell_type": "markdown",
   "id": "2e5a26b1-c0d2-489b-add8-a2f419e26b9a",
   "metadata": {},
   "source": [
    "# Imersão de Dados 4 - Aula 1"
   ]
  },
  {
   "cell_type": "markdown",
   "id": "226d9be0-94e4-4c3b-a962-98c58e31df31",
   "metadata": {},
   "source": [
    "* Importando as Bibliotecas"
   ]
  },
  {
   "cell_type": "code",
   "execution_count": 87,
   "id": "d08def8a-79b3-4cca-a017-2511a6632df5",
   "metadata": {},
   "outputs": [],
   "source": [
    "import pandas as pd\n",
    "import matplotlib as plt\n",
    "import seaborn as sns"
   ]
  },
  {
   "cell_type": "markdown",
   "id": "bfca7de8-12eb-47db-a15e-f48f49e3428a",
   "metadata": {},
   "source": [
    "* Extraindo os dados"
   ]
  },
  {
   "cell_type": "code",
   "execution_count": 2,
   "id": "51191036-b4bd-492b-b0cf-446b1a935c0d",
   "metadata": {},
   "outputs": [],
   "source": [
    "url = 'https://raw.githubusercontent.com/rafaelladuarte/precificacao_imoveis/main/Imers%C3%A3o%20Dados/dados_imoveis_sao_paulo_aula.csv'\n",
    "dados = pd.read_csv(url)"
   ]
  },
  {
   "cell_type": "markdown",
   "id": "4c43e834-e6f3-4644-be2c-a06121b92084",
   "metadata": {},
   "source": [
    "* Vizualizando os dados"
   ]
  },
  {
   "cell_type": "code",
   "execution_count": 3,
   "id": "37c57bf0-756a-430b-a646-6520d19f16e2",
   "metadata": {},
   "outputs": [
    {
     "data": {
      "text/html": [
       "<div>\n",
       "<style scoped>\n",
       "    .dataframe tbody tr th:only-of-type {\n",
       "        vertical-align: middle;\n",
       "    }\n",
       "\n",
       "    .dataframe tbody tr th {\n",
       "        vertical-align: top;\n",
       "    }\n",
       "\n",
       "    .dataframe thead th {\n",
       "        text-align: right;\n",
       "    }\n",
       "</style>\n",
       "<table border=\"1\" class=\"dataframe\">\n",
       "  <thead>\n",
       "    <tr style=\"text-align: right;\">\n",
       "      <th></th>\n",
       "      <th>Rua</th>\n",
       "      <th>Bairro</th>\n",
       "      <th>Cidade</th>\n",
       "      <th>Metragem</th>\n",
       "      <th>Quartos</th>\n",
       "      <th>Banheiros</th>\n",
       "      <th>Vagas</th>\n",
       "      <th>Valor</th>\n",
       "    </tr>\n",
       "  </thead>\n",
       "  <tbody>\n",
       "    <tr>\n",
       "      <th>0</th>\n",
       "      <td>Avenida Itacira, 255</td>\n",
       "      <td>Planalto Paulista</td>\n",
       "      <td>São Paulo</td>\n",
       "      <td>1000</td>\n",
       "      <td>4</td>\n",
       "      <td>8</td>\n",
       "      <td>6</td>\n",
       "      <td>R$ 7.000.000</td>\n",
       "    </tr>\n",
       "    <tr>\n",
       "      <th>1</th>\n",
       "      <td>Rua Aurelia Perez Alvarez, 42</td>\n",
       "      <td>Jardim dos Estados</td>\n",
       "      <td>São Paulo</td>\n",
       "      <td>496</td>\n",
       "      <td>4</td>\n",
       "      <td>4</td>\n",
       "      <td>4</td>\n",
       "      <td>R$ 3.700.000</td>\n",
       "    </tr>\n",
       "    <tr>\n",
       "      <th>2</th>\n",
       "      <td>Rua Alba Valdez</td>\n",
       "      <td>Jardim Reimberg</td>\n",
       "      <td>São Paulo</td>\n",
       "      <td>125</td>\n",
       "      <td>4</td>\n",
       "      <td>3</td>\n",
       "      <td>2</td>\n",
       "      <td>R$ 380.000</td>\n",
       "    </tr>\n",
       "    <tr>\n",
       "      <th>3</th>\n",
       "      <td>NaN</td>\n",
       "      <td>Jardim Morumbi</td>\n",
       "      <td>São Paulo</td>\n",
       "      <td>310</td>\n",
       "      <td>3</td>\n",
       "      <td>2</td>\n",
       "      <td>4</td>\n",
       "      <td>R$ 685.000</td>\n",
       "    </tr>\n",
       "    <tr>\n",
       "      <th>4</th>\n",
       "      <td>Rua Tobias Barreto, 195</td>\n",
       "      <td>Mooca</td>\n",
       "      <td>São Paulo</td>\n",
       "      <td>100</td>\n",
       "      <td>3</td>\n",
       "      <td>2</td>\n",
       "      <td>2</td>\n",
       "      <td>R$ 540.000</td>\n",
       "    </tr>\n",
       "  </tbody>\n",
       "</table>\n",
       "</div>"
      ],
      "text/plain": [
       "                              Rua              Bairro     Cidade  Metragem  \\\n",
       "0           Avenida Itacira, 255    Planalto Paulista  São Paulo      1000   \n",
       "1  Rua Aurelia Perez Alvarez, 42   Jardim dos Estados  São Paulo       496   \n",
       "2                 Rua Alba Valdez     Jardim Reimberg  São Paulo       125   \n",
       "3                             NaN      Jardim Morumbi  São Paulo       310   \n",
       "4        Rua Tobias Barreto, 195                Mooca  São Paulo       100   \n",
       "\n",
       "   Quartos  Banheiros  Vagas         Valor  \n",
       "0        4          8      6  R$ 7.000.000  \n",
       "1        4          4      4  R$ 3.700.000  \n",
       "2        4          3      2    R$ 380.000  \n",
       "3        3          2      4    R$ 685.000  \n",
       "4        3          2      2    R$ 540.000  "
      ]
     },
     "execution_count": 3,
     "metadata": {},
     "output_type": "execute_result"
    }
   ],
   "source": [
    "dados.head()"
   ]
  },
  {
   "cell_type": "code",
   "execution_count": 4,
   "id": "a0926db1-38b6-462d-b441-a314f4a6e54b",
   "metadata": {},
   "outputs": [
    {
     "data": {
      "text/html": [
       "<div>\n",
       "<style scoped>\n",
       "    .dataframe tbody tr th:only-of-type {\n",
       "        vertical-align: middle;\n",
       "    }\n",
       "\n",
       "    .dataframe tbody tr th {\n",
       "        vertical-align: top;\n",
       "    }\n",
       "\n",
       "    .dataframe thead th {\n",
       "        text-align: right;\n",
       "    }\n",
       "</style>\n",
       "<table border=\"1\" class=\"dataframe\">\n",
       "  <thead>\n",
       "    <tr style=\"text-align: right;\">\n",
       "      <th></th>\n",
       "      <th>Rua</th>\n",
       "      <th>Bairro</th>\n",
       "      <th>Cidade</th>\n",
       "      <th>Metragem</th>\n",
       "      <th>Quartos</th>\n",
       "      <th>Banheiros</th>\n",
       "      <th>Vagas</th>\n",
       "      <th>Valor</th>\n",
       "    </tr>\n",
       "  </thead>\n",
       "  <tbody>\n",
       "    <tr>\n",
       "      <th>0</th>\n",
       "      <td>Avenida Itacira, 255</td>\n",
       "      <td>Planalto Paulista</td>\n",
       "      <td>São Paulo</td>\n",
       "      <td>1000</td>\n",
       "      <td>4</td>\n",
       "      <td>8</td>\n",
       "      <td>6</td>\n",
       "      <td>R$ 7.000.000</td>\n",
       "    </tr>\n",
       "    <tr>\n",
       "      <th>1</th>\n",
       "      <td>Rua Aurelia Perez Alvarez, 42</td>\n",
       "      <td>Jardim dos Estados</td>\n",
       "      <td>São Paulo</td>\n",
       "      <td>496</td>\n",
       "      <td>4</td>\n",
       "      <td>4</td>\n",
       "      <td>4</td>\n",
       "      <td>R$ 3.700.000</td>\n",
       "    </tr>\n",
       "    <tr>\n",
       "      <th>2</th>\n",
       "      <td>Rua Alba Valdez</td>\n",
       "      <td>Jardim Reimberg</td>\n",
       "      <td>São Paulo</td>\n",
       "      <td>125</td>\n",
       "      <td>4</td>\n",
       "      <td>3</td>\n",
       "      <td>2</td>\n",
       "      <td>R$ 380.000</td>\n",
       "    </tr>\n",
       "    <tr>\n",
       "      <th>3</th>\n",
       "      <td>NaN</td>\n",
       "      <td>Jardim Morumbi</td>\n",
       "      <td>São Paulo</td>\n",
       "      <td>310</td>\n",
       "      <td>3</td>\n",
       "      <td>2</td>\n",
       "      <td>4</td>\n",
       "      <td>R$ 685.000</td>\n",
       "    </tr>\n",
       "    <tr>\n",
       "      <th>4</th>\n",
       "      <td>Rua Tobias Barreto, 195</td>\n",
       "      <td>Mooca</td>\n",
       "      <td>São Paulo</td>\n",
       "      <td>100</td>\n",
       "      <td>3</td>\n",
       "      <td>2</td>\n",
       "      <td>2</td>\n",
       "      <td>R$ 540.000</td>\n",
       "    </tr>\n",
       "    <tr>\n",
       "      <th>...</th>\n",
       "      <td>...</td>\n",
       "      <td>...</td>\n",
       "      <td>...</td>\n",
       "      <td>...</td>\n",
       "      <td>...</td>\n",
       "      <td>...</td>\n",
       "      <td>...</td>\n",
       "      <td>...</td>\n",
       "    </tr>\n",
       "    <tr>\n",
       "      <th>10003</th>\n",
       "      <td>Rua Tapuçu</td>\n",
       "      <td>Vila Sofia</td>\n",
       "      <td>São Paulo</td>\n",
       "      <td>95</td>\n",
       "      <td>2</td>\n",
       "      <td>2</td>\n",
       "      <td>2</td>\n",
       "      <td>R$ 665.000</td>\n",
       "    </tr>\n",
       "    <tr>\n",
       "      <th>10004</th>\n",
       "      <td>Rua Guararema</td>\n",
       "      <td>Bosque da Saúde</td>\n",
       "      <td>São Paulo</td>\n",
       "      <td>605</td>\n",
       "      <td>8</td>\n",
       "      <td>7</td>\n",
       "      <td>5</td>\n",
       "      <td>R$ 2.300.000</td>\n",
       "    </tr>\n",
       "    <tr>\n",
       "      <th>10005</th>\n",
       "      <td>Rua Estero Belaco</td>\n",
       "      <td>Vila da Saúde</td>\n",
       "      <td>São Paulo</td>\n",
       "      <td>205</td>\n",
       "      <td>3</td>\n",
       "      <td>3</td>\n",
       "      <td>6</td>\n",
       "      <td>R$ 1.050.000</td>\n",
       "    </tr>\n",
       "    <tr>\n",
       "      <th>10006</th>\n",
       "      <td>Rua Manuel Onha, , 514</td>\n",
       "      <td>Vila Oratório</td>\n",
       "      <td>São Paulo</td>\n",
       "      <td>185</td>\n",
       "      <td>3</td>\n",
       "      <td>2</td>\n",
       "      <td>2</td>\n",
       "      <td>R$ 2.200\\n                      /Mês</td>\n",
       "    </tr>\n",
       "    <tr>\n",
       "      <th>10007</th>\n",
       "      <td>Rua Barão de Tramandaí, 0</td>\n",
       "      <td>Vila Alpina</td>\n",
       "      <td>São Paulo</td>\n",
       "      <td>122</td>\n",
       "      <td>3</td>\n",
       "      <td>2</td>\n",
       "      <td>2</td>\n",
       "      <td>R$ 270.000</td>\n",
       "    </tr>\n",
       "  </tbody>\n",
       "</table>\n",
       "<p>10008 rows × 8 columns</p>\n",
       "</div>"
      ],
      "text/plain": [
       "                                  Rua              Bairro     Cidade  \\\n",
       "0               Avenida Itacira, 255    Planalto Paulista  São Paulo   \n",
       "1      Rua Aurelia Perez Alvarez, 42   Jardim dos Estados  São Paulo   \n",
       "2                     Rua Alba Valdez     Jardim Reimberg  São Paulo   \n",
       "3                                 NaN      Jardim Morumbi  São Paulo   \n",
       "4            Rua Tobias Barreto, 195                Mooca  São Paulo   \n",
       "...                               ...                 ...        ...   \n",
       "10003                      Rua Tapuçu          Vila Sofia  São Paulo   \n",
       "10004                   Rua Guararema     Bosque da Saúde  São Paulo   \n",
       "10005               Rua Estero Belaco       Vila da Saúde  São Paulo   \n",
       "10006         Rua Manuel Onha, , 514        Vila Oratório  São Paulo   \n",
       "10007      Rua Barão de Tramandaí, 0          Vila Alpina  São Paulo   \n",
       "\n",
       "       Metragem  Quartos  Banheiros  Vagas  \\\n",
       "0          1000        4          8      6   \n",
       "1           496        4          4      4   \n",
       "2           125        4          3      2   \n",
       "3           310        3          2      4   \n",
       "4           100        3          2      2   \n",
       "...         ...      ...        ...    ...   \n",
       "10003        95        2          2      2   \n",
       "10004       605        8          7      5   \n",
       "10005       205        3          3      6   \n",
       "10006       185        3          2      2   \n",
       "10007       122        3          2      2   \n",
       "\n",
       "                                      Valor  \n",
       "0                              R$ 7.000.000  \n",
       "1                              R$ 3.700.000  \n",
       "2                                R$ 380.000  \n",
       "3                                R$ 685.000  \n",
       "4                                R$ 540.000  \n",
       "...                                     ...  \n",
       "10003                            R$ 665.000  \n",
       "10004                          R$ 2.300.000  \n",
       "10005                          R$ 1.050.000  \n",
       "10006  R$ 2.200\\n                      /Mês  \n",
       "10007                            R$ 270.000  \n",
       "\n",
       "[10008 rows x 8 columns]"
      ]
     },
     "execution_count": 4,
     "metadata": {},
     "output_type": "execute_result"
    }
   ],
   "source": [
    "dados"
   ]
  },
  {
   "cell_type": "markdown",
   "id": "d4a0aca8-d472-4257-8f25-81abd5201acc",
   "metadata": {},
   "source": [
    "A amostra tem cerca de 10 mil linhas e 8 colunas"
   ]
  },
  {
   "cell_type": "markdown",
   "id": "632d3407-936d-459f-9b40-2ae03b218e27",
   "metadata": {},
   "source": [
    "* Vizualizando os dados de forma aleatoria"
   ]
  },
  {
   "cell_type": "code",
   "execution_count": 5,
   "id": "305853aa-0404-423b-9fd3-9a8e33a88e72",
   "metadata": {},
   "outputs": [
    {
     "data": {
      "text/html": [
       "<div>\n",
       "<style scoped>\n",
       "    .dataframe tbody tr th:only-of-type {\n",
       "        vertical-align: middle;\n",
       "    }\n",
       "\n",
       "    .dataframe tbody tr th {\n",
       "        vertical-align: top;\n",
       "    }\n",
       "\n",
       "    .dataframe thead th {\n",
       "        text-align: right;\n",
       "    }\n",
       "</style>\n",
       "<table border=\"1\" class=\"dataframe\">\n",
       "  <thead>\n",
       "    <tr style=\"text-align: right;\">\n",
       "      <th></th>\n",
       "      <th>Rua</th>\n",
       "      <th>Bairro</th>\n",
       "      <th>Cidade</th>\n",
       "      <th>Metragem</th>\n",
       "      <th>Quartos</th>\n",
       "      <th>Banheiros</th>\n",
       "      <th>Vagas</th>\n",
       "      <th>Valor</th>\n",
       "    </tr>\n",
       "  </thead>\n",
       "  <tbody>\n",
       "    <tr>\n",
       "      <th>6068</th>\n",
       "      <td>NaN</td>\n",
       "      <td>Brooklin Paulista</td>\n",
       "      <td>São Paulo</td>\n",
       "      <td>255</td>\n",
       "      <td>4</td>\n",
       "      <td>5</td>\n",
       "      <td>4</td>\n",
       "      <td>R$ 2.200.000</td>\n",
       "    </tr>\n",
       "    <tr>\n",
       "      <th>9612</th>\n",
       "      <td>NaN</td>\n",
       "      <td>Chácara Inglesa</td>\n",
       "      <td>São Paulo</td>\n",
       "      <td>105</td>\n",
       "      <td>3</td>\n",
       "      <td>2</td>\n",
       "      <td>1</td>\n",
       "      <td>R$ 519.800</td>\n",
       "    </tr>\n",
       "    <tr>\n",
       "      <th>1512</th>\n",
       "      <td>Rua Iramaia</td>\n",
       "      <td>Jardim Europa</td>\n",
       "      <td>São Paulo</td>\n",
       "      <td>250</td>\n",
       "      <td>3</td>\n",
       "      <td>3</td>\n",
       "      <td>3</td>\n",
       "      <td>R$ 2.500.000</td>\n",
       "    </tr>\n",
       "    <tr>\n",
       "      <th>264</th>\n",
       "      <td>NaN</td>\n",
       "      <td>Sumaré</td>\n",
       "      <td>São Paulo</td>\n",
       "      <td>631</td>\n",
       "      <td>4</td>\n",
       "      <td>5</td>\n",
       "      <td>6</td>\n",
       "      <td>R$ 3.500.000</td>\n",
       "    </tr>\n",
       "    <tr>\n",
       "      <th>6516</th>\n",
       "      <td>Rua Marapuama</td>\n",
       "      <td>Alto da Lapa</td>\n",
       "      <td>São Paulo</td>\n",
       "      <td>88</td>\n",
       "      <td>1</td>\n",
       "      <td>1</td>\n",
       "      <td>1</td>\n",
       "      <td>R$ 2.790\\n                      /Mês</td>\n",
       "    </tr>\n",
       "    <tr>\n",
       "      <th>7547</th>\n",
       "      <td>Rua Orozimbo Maia, 171</td>\n",
       "      <td>Alto da Mooca</td>\n",
       "      <td>São Paulo</td>\n",
       "      <td>220</td>\n",
       "      <td>6</td>\n",
       "      <td>7</td>\n",
       "      <td>6</td>\n",
       "      <td>R$ 2.000.000</td>\n",
       "    </tr>\n",
       "    <tr>\n",
       "      <th>8737</th>\n",
       "      <td>Avenida Manoel dos Reis Araújo</td>\n",
       "      <td>Jardim Marajoara</td>\n",
       "      <td>São Paulo</td>\n",
       "      <td>462</td>\n",
       "      <td>4</td>\n",
       "      <td>6</td>\n",
       "      <td>4</td>\n",
       "      <td>R$ 2.500.000</td>\n",
       "    </tr>\n",
       "    <tr>\n",
       "      <th>403</th>\n",
       "      <td>Rua Antônio Carlos de Andrade</td>\n",
       "      <td>Veleiros</td>\n",
       "      <td>São Paulo</td>\n",
       "      <td>136</td>\n",
       "      <td>3</td>\n",
       "      <td>2</td>\n",
       "      <td>3</td>\n",
       "      <td>R$ 550.000</td>\n",
       "    </tr>\n",
       "    <tr>\n",
       "      <th>6601</th>\n",
       "      <td>Rua Araxiá, 122</td>\n",
       "      <td>Jardim Guedala</td>\n",
       "      <td>São Paulo</td>\n",
       "      <td>461</td>\n",
       "      <td>4</td>\n",
       "      <td>5</td>\n",
       "      <td>3</td>\n",
       "      <td>R$ 2.350.000</td>\n",
       "    </tr>\n",
       "    <tr>\n",
       "      <th>3911</th>\n",
       "      <td>Rua Dom Tomás Costa e Lima, 2110</td>\n",
       "      <td>Retiro Morumbi</td>\n",
       "      <td>São Paulo</td>\n",
       "      <td>605</td>\n",
       "      <td>3</td>\n",
       "      <td>6</td>\n",
       "      <td>8</td>\n",
       "      <td>R$ 4.980.000</td>\n",
       "    </tr>\n",
       "  </tbody>\n",
       "</table>\n",
       "</div>"
      ],
      "text/plain": [
       "                                    Rua             Bairro     Cidade  \\\n",
       "6068                                NaN  Brooklin Paulista  São Paulo   \n",
       "9612                                NaN    Chácara Inglesa  São Paulo   \n",
       "1512                        Rua Iramaia      Jardim Europa  São Paulo   \n",
       "264                                 NaN             Sumaré  São Paulo   \n",
       "6516                      Rua Marapuama       Alto da Lapa  São Paulo   \n",
       "7547            Rua Orozimbo Maia, 171       Alto da Mooca  São Paulo   \n",
       "8737     Avenida Manoel dos Reis Araújo   Jardim Marajoara  São Paulo   \n",
       "403       Rua Antônio Carlos de Andrade           Veleiros  São Paulo   \n",
       "6601                   Rua Araxiá, 122      Jardim Guedala  São Paulo   \n",
       "3911  Rua Dom Tomás Costa e Lima, 2110      Retiro Morumbi  São Paulo   \n",
       "\n",
       "      Metragem  Quartos  Banheiros  Vagas  \\\n",
       "6068       255        4          5      4   \n",
       "9612       105        3          2      1   \n",
       "1512       250        3          3      3   \n",
       "264        631        4          5      6   \n",
       "6516        88        1          1      1   \n",
       "7547       220        6          7      6   \n",
       "8737       462        4          6      4   \n",
       "403        136        3          2      3   \n",
       "6601       461        4          5      3   \n",
       "3911       605        3          6      8   \n",
       "\n",
       "                                     Valor  \n",
       "6068                          R$ 2.200.000  \n",
       "9612                            R$ 519.800  \n",
       "1512                          R$ 2.500.000  \n",
       "264                           R$ 3.500.000  \n",
       "6516  R$ 2.790\\n                      /Mês  \n",
       "7547                          R$ 2.000.000  \n",
       "8737                          R$ 2.500.000  \n",
       "403                             R$ 550.000  \n",
       "6601                          R$ 2.350.000  \n",
       "3911                          R$ 4.980.000  "
      ]
     },
     "execution_count": 5,
     "metadata": {},
     "output_type": "execute_result"
    }
   ],
   "source": [
    "dados.sample(10)"
   ]
  },
  {
   "cell_type": "markdown",
   "id": "a1516b61-3ae8-42ee-a191-6e68e9faa899",
   "metadata": {},
   "source": [
    "* Entendendo um pouco da estrutura dos dados"
   ]
  },
  {
   "cell_type": "code",
   "execution_count": 6,
   "id": "6b694f69-cd7e-4a44-913a-052135576ee6",
   "metadata": {},
   "outputs": [
    {
     "data": {
      "text/plain": [
       "pandas.core.frame.DataFrame"
      ]
     },
     "execution_count": 6,
     "metadata": {},
     "output_type": "execute_result"
    }
   ],
   "source": [
    "type(dados)"
   ]
  },
  {
   "cell_type": "code",
   "execution_count": 7,
   "id": "b9d743d3-3709-4ebe-b779-c817898a4d4a",
   "metadata": {},
   "outputs": [
    {
     "data": {
      "text/plain": [
       "0         Planalto Paulista\n",
       "1        Jardim dos Estados\n",
       "2           Jardim Reimberg\n",
       "3            Jardim Morumbi\n",
       "4                     Mooca\n",
       "                ...        \n",
       "10003            Vila Sofia\n",
       "10004       Bosque da Saúde\n",
       "10005         Vila da Saúde\n",
       "10006         Vila Oratório\n",
       "10007           Vila Alpina\n",
       "Name: Bairro, Length: 10008, dtype: object"
      ]
     },
     "execution_count": 7,
     "metadata": {},
     "output_type": "execute_result"
    }
   ],
   "source": [
    "dados[\"Bairro\"]"
   ]
  },
  {
   "cell_type": "code",
   "execution_count": 8,
   "id": "69782218-795c-4bc6-b252-ae3d65389625",
   "metadata": {},
   "outputs": [
    {
     "data": {
      "text/plain": [
       "pandas.core.series.Series"
      ]
     },
     "execution_count": 8,
     "metadata": {},
     "output_type": "execute_result"
    }
   ],
   "source": [
    "type(dados[\"Bairro\"])"
   ]
  },
  {
   "cell_type": "code",
   "execution_count": 9,
   "id": "02bf1a65-6d98-46c5-b9ee-0b11c95b6128",
   "metadata": {},
   "outputs": [
    {
     "data": {
      "text/plain": [
       "'Vila Paulo Silas'"
      ]
     },
     "execution_count": 9,
     "metadata": {},
     "output_type": "execute_result"
    }
   ],
   "source": [
    "dados[\"Bairro\"][6522]"
   ]
  },
  {
   "cell_type": "code",
   "execution_count": 10,
   "id": "3553f9f0-028a-44f3-9533-0abcdf4e963b",
   "metadata": {},
   "outputs": [
    {
     "name": "stdout",
     "output_type": "stream",
     "text": [
      "<class 'pandas.core.frame.DataFrame'>\n",
      "RangeIndex: 10008 entries, 0 to 10007\n",
      "Data columns (total 8 columns):\n",
      " #   Column     Non-Null Count  Dtype \n",
      "---  ------     --------------  ----- \n",
      " 0   Rua        6574 non-null   object\n",
      " 1   Bairro     9996 non-null   object\n",
      " 2   Cidade     10008 non-null  object\n",
      " 3   Metragem   10008 non-null  int64 \n",
      " 4   Quartos    10008 non-null  int64 \n",
      " 5   Banheiros  10008 non-null  int64 \n",
      " 6   Vagas      10008 non-null  int64 \n",
      " 7   Valor      10008 non-null  object\n",
      "dtypes: int64(4), object(4)\n",
      "memory usage: 625.6+ KB\n"
     ]
    }
   ],
   "source": [
    "dados.info()"
   ]
  },
  {
   "cell_type": "markdown",
   "id": "ddc12e10-7b56-451f-89b5-0ac94a7f1430",
   "metadata": {},
   "source": [
    "* Analisando os dados"
   ]
  },
  {
   "cell_type": "markdown",
   "id": "da652c1f-d36f-4a61-b93a-95a32f1073db",
   "metadata": {},
   "source": [
    "Qual a media de metragem tem a amostra?"
   ]
  },
  {
   "cell_type": "code",
   "execution_count": 11,
   "id": "5c0e5615-61bc-4dc3-a0ae-f813459e116b",
   "metadata": {},
   "outputs": [
    {
     "data": {
      "text/plain": [
       "442.30065947242207"
      ]
     },
     "execution_count": 11,
     "metadata": {},
     "output_type": "execute_result"
    }
   ],
   "source": [
    "dados.Metragem.mean()"
   ]
  },
  {
   "cell_type": "code",
   "execution_count": 12,
   "id": "4508d7f3-580d-4021-9f0d-5dc42a2347b1",
   "metadata": {},
   "outputs": [
    {
     "data": {
      "text/plain": [
       "442.30065947242207"
      ]
     },
     "execution_count": 12,
     "metadata": {},
     "output_type": "execute_result"
    }
   ],
   "source": [
    "dados[\"Metragem\"].mean()"
   ]
  },
  {
   "cell_type": "markdown",
   "id": "95b3ca8f-562a-4da9-9ffd-59da0aed0e84",
   "metadata": {},
   "source": [
    "Quantos imoveis tem o bairro Vila Mariana?"
   ]
  },
  {
   "cell_type": "code",
   "execution_count": 13,
   "id": "c5abd68e-3ad0-4398-bb08-0fffa7d6ed6e",
   "metadata": {},
   "outputs": [
    {
     "data": {
      "text/plain": [
       "0        False\n",
       "1        False\n",
       "2        False\n",
       "3        False\n",
       "4        False\n",
       "         ...  \n",
       "10003    False\n",
       "10004    False\n",
       "10005    False\n",
       "10006    False\n",
       "10007    False\n",
       "Name: Bairro, Length: 10008, dtype: bool"
      ]
     },
     "execution_count": 13,
     "metadata": {},
     "output_type": "execute_result"
    }
   ],
   "source": [
    "dados[\"Bairro\"] == \"Vila Mariana\""
   ]
  },
  {
   "cell_type": "code",
   "execution_count": 14,
   "id": "6f6f9bbb-e6ab-46c9-a68b-53f47ebfcc68",
   "metadata": {},
   "outputs": [
    {
     "data": {
      "text/plain": [
       "0        0\n",
       "1        0\n",
       "2        0\n",
       "3        0\n",
       "4        0\n",
       "        ..\n",
       "10003    0\n",
       "10004    0\n",
       "10005    0\n",
       "10006    0\n",
       "10007    0\n",
       "Name: Bairro, Length: 10008, dtype: int64"
      ]
     },
     "execution_count": 14,
     "metadata": {},
     "output_type": "execute_result"
    }
   ],
   "source": [
    "(dados[\"Bairro\"] == \"Vila Mariana\") * 1"
   ]
  },
  {
   "cell_type": "code",
   "execution_count": 15,
   "id": "ae6e1a93-3efd-40e4-93eb-a432dbcf6563",
   "metadata": {},
   "outputs": [
    {
     "data": {
      "text/plain": [
       "184"
      ]
     },
     "execution_count": 15,
     "metadata": {},
     "output_type": "execute_result"
    }
   ],
   "source": [
    "sum((dados[\"Bairro\"] == \"Vila Mariana\") * 1)"
   ]
  },
  {
   "cell_type": "code",
   "execution_count": 16,
   "id": "1ec42d9c-2ab4-4722-b89d-79d7d2cdb626",
   "metadata": {},
   "outputs": [
    {
     "data": {
      "text/plain": [
       "184"
      ]
     },
     "execution_count": 16,
     "metadata": {},
     "output_type": "execute_result"
    }
   ],
   "source": [
    "sum((dados[\"Bairro\"] == \"Vila Mariana\"))"
   ]
  },
  {
   "cell_type": "markdown",
   "id": "7572811d-6fd3-4537-83ac-6dd2dee6a01d",
   "metadata": {},
   "source": [
    "Selecionando apenas os imoveis do Bairro Vila Mariana"
   ]
  },
  {
   "cell_type": "code",
   "execution_count": 17,
   "id": "6d30f7ef-e171-4215-8da9-6afc3590659c",
   "metadata": {},
   "outputs": [
    {
     "data": {
      "text/plain": [
       "0        False\n",
       "1        False\n",
       "2        False\n",
       "3        False\n",
       "4        False\n",
       "         ...  \n",
       "10003    False\n",
       "10004    False\n",
       "10005    False\n",
       "10006    False\n",
       "10007    False\n",
       "Name: Bairro, Length: 10008, dtype: bool"
      ]
     },
     "execution_count": 17,
     "metadata": {},
     "output_type": "execute_result"
    }
   ],
   "source": [
    "imoveis_vila = dados[\"Bairro\"] == \"Vila Mariana\"\n",
    "imoveis_vila"
   ]
  },
  {
   "cell_type": "code",
   "execution_count": 18,
   "id": "d4365d33-bd75-4fec-ab3c-05193841ffc1",
   "metadata": {},
   "outputs": [],
   "source": [
    "dados_imoveis_vila = dados[imoveis_vila]"
   ]
  },
  {
   "cell_type": "markdown",
   "id": "826b5577-8794-4731-954a-4e974fe8569e",
   "metadata": {},
   "source": [
    "Visualizando os dados do bairro Vila Mariana"
   ]
  },
  {
   "cell_type": "code",
   "execution_count": 19,
   "id": "2e7f7bfd-0432-429e-a3b1-e4f1e72eeeab",
   "metadata": {},
   "outputs": [
    {
     "data": {
      "text/html": [
       "<div>\n",
       "<style scoped>\n",
       "    .dataframe tbody tr th:only-of-type {\n",
       "        vertical-align: middle;\n",
       "    }\n",
       "\n",
       "    .dataframe tbody tr th {\n",
       "        vertical-align: top;\n",
       "    }\n",
       "\n",
       "    .dataframe thead th {\n",
       "        text-align: right;\n",
       "    }\n",
       "</style>\n",
       "<table border=\"1\" class=\"dataframe\">\n",
       "  <thead>\n",
       "    <tr style=\"text-align: right;\">\n",
       "      <th></th>\n",
       "      <th>Rua</th>\n",
       "      <th>Bairro</th>\n",
       "      <th>Cidade</th>\n",
       "      <th>Metragem</th>\n",
       "      <th>Quartos</th>\n",
       "      <th>Banheiros</th>\n",
       "      <th>Vagas</th>\n",
       "      <th>Valor</th>\n",
       "    </tr>\n",
       "  </thead>\n",
       "  <tbody>\n",
       "    <tr>\n",
       "      <th>100</th>\n",
       "      <td>Rua Pero Correia</td>\n",
       "      <td>Vila Mariana</td>\n",
       "      <td>São Paulo</td>\n",
       "      <td>250</td>\n",
       "      <td>3</td>\n",
       "      <td>3</td>\n",
       "      <td>1</td>\n",
       "      <td>R$ 1.350.000</td>\n",
       "    </tr>\n",
       "    <tr>\n",
       "      <th>120</th>\n",
       "      <td>Praça Doutor Carvalho Franco</td>\n",
       "      <td>Vila Mariana</td>\n",
       "      <td>São Paulo</td>\n",
       "      <td>250</td>\n",
       "      <td>3</td>\n",
       "      <td>5</td>\n",
       "      <td>2</td>\n",
       "      <td>R$ 2.450.000</td>\n",
       "    </tr>\n",
       "    <tr>\n",
       "      <th>155</th>\n",
       "      <td>Rua Professor João Marinho</td>\n",
       "      <td>Vila Mariana</td>\n",
       "      <td>São Paulo</td>\n",
       "      <td>170</td>\n",
       "      <td>3</td>\n",
       "      <td>4</td>\n",
       "      <td>2</td>\n",
       "      <td>R$ 1.490.000</td>\n",
       "    </tr>\n",
       "    <tr>\n",
       "      <th>160</th>\n",
       "      <td>NaN</td>\n",
       "      <td>Vila Mariana</td>\n",
       "      <td>São Paulo</td>\n",
       "      <td>228</td>\n",
       "      <td>4</td>\n",
       "      <td>5</td>\n",
       "      <td>3</td>\n",
       "      <td>R$ 2.200.000</td>\n",
       "    </tr>\n",
       "    <tr>\n",
       "      <th>334</th>\n",
       "      <td>Rua Pero Correia, 892</td>\n",
       "      <td>Vila Mariana</td>\n",
       "      <td>São Paulo</td>\n",
       "      <td>350</td>\n",
       "      <td>6</td>\n",
       "      <td>4</td>\n",
       "      <td>10</td>\n",
       "      <td>R$ 1.700.000</td>\n",
       "    </tr>\n",
       "    <tr>\n",
       "      <th>...</th>\n",
       "      <td>...</td>\n",
       "      <td>...</td>\n",
       "      <td>...</td>\n",
       "      <td>...</td>\n",
       "      <td>...</td>\n",
       "      <td>...</td>\n",
       "      <td>...</td>\n",
       "      <td>...</td>\n",
       "    </tr>\n",
       "    <tr>\n",
       "      <th>9645</th>\n",
       "      <td>Rua Sousa Ramos</td>\n",
       "      <td>Vila Mariana</td>\n",
       "      <td>São Paulo</td>\n",
       "      <td>285</td>\n",
       "      <td>3</td>\n",
       "      <td>5</td>\n",
       "      <td>5</td>\n",
       "      <td>R$ 1.650.000</td>\n",
       "    </tr>\n",
       "    <tr>\n",
       "      <th>9701</th>\n",
       "      <td>Rua Benito Juarez</td>\n",
       "      <td>Vila Mariana</td>\n",
       "      <td>São Paulo</td>\n",
       "      <td>171</td>\n",
       "      <td>3</td>\n",
       "      <td>2</td>\n",
       "      <td>4</td>\n",
       "      <td>R$ 1.650.000</td>\n",
       "    </tr>\n",
       "    <tr>\n",
       "      <th>9737</th>\n",
       "      <td>Rua Benito Juarez</td>\n",
       "      <td>Vila Mariana</td>\n",
       "      <td>São Paulo</td>\n",
       "      <td>171</td>\n",
       "      <td>3</td>\n",
       "      <td>2</td>\n",
       "      <td>4</td>\n",
       "      <td>R$ 1.650.000</td>\n",
       "    </tr>\n",
       "    <tr>\n",
       "      <th>9807</th>\n",
       "      <td>NaN</td>\n",
       "      <td>Vila Mariana</td>\n",
       "      <td>São Paulo</td>\n",
       "      <td>275</td>\n",
       "      <td>3</td>\n",
       "      <td>1</td>\n",
       "      <td>6</td>\n",
       "      <td>R$ 1.500.000</td>\n",
       "    </tr>\n",
       "    <tr>\n",
       "      <th>9852</th>\n",
       "      <td>Rua França Pinto</td>\n",
       "      <td>Vila Mariana</td>\n",
       "      <td>São Paulo</td>\n",
       "      <td>280</td>\n",
       "      <td>3</td>\n",
       "      <td>3</td>\n",
       "      <td>4</td>\n",
       "      <td>R$ 1.600.000</td>\n",
       "    </tr>\n",
       "  </tbody>\n",
       "</table>\n",
       "<p>184 rows × 8 columns</p>\n",
       "</div>"
      ],
      "text/plain": [
       "                               Rua        Bairro     Cidade  Metragem  \\\n",
       "100               Rua Pero Correia  Vila Mariana  São Paulo       250   \n",
       "120   Praça Doutor Carvalho Franco  Vila Mariana  São Paulo       250   \n",
       "155     Rua Professor João Marinho  Vila Mariana  São Paulo       170   \n",
       "160                            NaN  Vila Mariana  São Paulo       228   \n",
       "334         Rua Pero Correia, 892   Vila Mariana  São Paulo       350   \n",
       "...                            ...           ...        ...       ...   \n",
       "9645               Rua Sousa Ramos  Vila Mariana  São Paulo       285   \n",
       "9701             Rua Benito Juarez  Vila Mariana  São Paulo       171   \n",
       "9737             Rua Benito Juarez  Vila Mariana  São Paulo       171   \n",
       "9807                           NaN  Vila Mariana  São Paulo       275   \n",
       "9852              Rua França Pinto  Vila Mariana  São Paulo       280   \n",
       "\n",
       "      Quartos  Banheiros  Vagas         Valor  \n",
       "100         3          3      1  R$ 1.350.000  \n",
       "120         3          5      2  R$ 2.450.000  \n",
       "155         3          4      2  R$ 1.490.000  \n",
       "160         4          5      3  R$ 2.200.000  \n",
       "334         6          4     10  R$ 1.700.000  \n",
       "...       ...        ...    ...           ...  \n",
       "9645        3          5      5  R$ 1.650.000  \n",
       "9701        3          2      4  R$ 1.650.000  \n",
       "9737        3          2      4  R$ 1.650.000  \n",
       "9807        3          1      6  R$ 1.500.000  \n",
       "9852        3          3      4  R$ 1.600.000  \n",
       "\n",
       "[184 rows x 8 columns]"
      ]
     },
     "execution_count": 19,
     "metadata": {},
     "output_type": "execute_result"
    }
   ],
   "source": [
    "dados_imoveis_vila"
   ]
  },
  {
   "cell_type": "markdown",
   "id": "3789f23a-78a8-4abc-9a24-d2c94e45c3a9",
   "metadata": {},
   "source": [
    "Qual a media de metragem dos moveis no bairro Vila Mariana?"
   ]
  },
  {
   "cell_type": "code",
   "execution_count": 20,
   "id": "60002c01-49c7-4ad1-80c6-1e1125c0265c",
   "metadata": {},
   "outputs": [
    {
     "data": {
      "text/plain": [
       "233.6195652173913"
      ]
     },
     "execution_count": 20,
     "metadata": {},
     "output_type": "execute_result"
    }
   ],
   "source": [
    "dados_imoveis_vila.Metragem.mean()"
   ]
  },
  {
   "cell_type": "markdown",
   "id": "99105d2d-0f27-4139-a280-5beea7a2187d",
   "metadata": {},
   "source": [
    "Quantos imoveis tem cada bairro da amostra?"
   ]
  },
  {
   "cell_type": "code",
   "execution_count": 21,
   "id": "83667207-9e20-4c60-98e2-68e5fd36f2d7",
   "metadata": {},
   "outputs": [
    {
     "data": {
      "text/plain": [
       "Alto de Pinheiros     409\n",
       "Jardim Guedala        403\n",
       "Jardim Paulista       309\n",
       "Brooklin Paulista     247\n",
       "Jardim Europa         240\n",
       "                     ... \n",
       "Jardim das Imbuias      1\n",
       "Vila Represa            1\n",
       "Vila Nancy              1\n",
       "Sítio Represa           1\n",
       "Vila Invernada          1\n",
       "Name: Bairro, Length: 701, dtype: int64"
      ]
     },
     "execution_count": 21,
     "metadata": {},
     "output_type": "execute_result"
    }
   ],
   "source": [
    "dados[\"Bairro\"].value_counts()"
   ]
  },
  {
   "cell_type": "markdown",
   "id": "a33e02d0-8c81-4078-a904-4db0c51ce37b",
   "metadata": {},
   "source": [
    "* Criando Graficos com a analise de dados"
   ]
  },
  {
   "cell_type": "code",
   "execution_count": 22,
   "id": "6b5e0fed-5df6-4df2-9ebc-9c06e2effe6d",
   "metadata": {},
   "outputs": [],
   "source": [
    "n_imoveis_bairro = dados[\"Bairro\"].value_counts()"
   ]
  },
  {
   "cell_type": "markdown",
   "id": "c3cf00dc-3a9f-4300-9ecb-eb3bb0d8db30",
   "metadata": {},
   "source": [
    "Histograma com a frequencia de imoveis por bairro"
   ]
  },
  {
   "cell_type": "code",
   "execution_count": 23,
   "id": "97604008-091a-4db3-9e97-361cf5c7d701",
   "metadata": {},
   "outputs": [
    {
     "data": {
      "text/plain": [
       "<AxesSubplot:ylabel='Frequency'>"
      ]
     },
     "execution_count": 23,
     "metadata": {},
     "output_type": "execute_result"
    },
    {
     "data": {
      "image/png": "[encoded data removed]",
      "text/plain": [
       "<Figure size 432x288 with 1 Axes>"
      ]
     },
     "metadata": {
      "needs_background": "light"
     },
     "output_type": "display_data"
    }
   ],
   "source": [
    "n_imoveis_bairro.plot.hist()"
   ]
  },
  {
   "cell_type": "markdown",
   "id": "359e438b-7554-40f6-81a0-a1ddb3d1ddaa",
   "metadata": {},
   "source": [
    "Grafico de barras"
   ]
  },
  {
   "cell_type": "code",
   "execution_count": 24,
   "id": "5341b2bd-1a76-4fd9-ba6e-441a096aceba",
   "metadata": {},
   "outputs": [
    {
     "data": {
      "text/plain": [
       "<AxesSubplot:>"
      ]
     },
     "execution_count": 24,
     "metadata": {},
     "output_type": "execute_result"
    },
    {
     "data": {
      "image/png": "[encoded data removed]",
      "text/plain": [
       "<Figure size 432x288 with 1 Axes>"
      ]
     },
     "metadata": {
      "needs_background": "light"
     },
     "output_type": "display_data"
    }
   ],
   "source": [
    "n_imoveis_bairro.plot.bar()"
   ]
  },
  {
   "cell_type": "markdown",
   "id": "5a105710-301e-44ee-bcd6-fb7b32047942",
   "metadata": {},
   "source": [
    "Os 10 bairros com mais imoveis"
   ]
  },
  {
   "cell_type": "code",
   "execution_count": 25,
   "id": "853ebc24-236a-4086-a365-7b7ecab64da1",
   "metadata": {},
   "outputs": [
    {
     "data": {
      "text/plain": [
       "<AxesSubplot:>"
      ]
     },
     "execution_count": 25,
     "metadata": {},
     "output_type": "execute_result"
    },
    {
     "data": {
      "image/png": "[encoded data removed]",
      "text/plain": [
       "<Figure size 432x288 with 1 Axes>"
      ]
     },
     "metadata": {
      "needs_background": "light"
     },
     "output_type": "display_data"
    }
   ],
   "source": [
    "n_imoveis_bairro.head(10).plot.bar()"
   ]
  },
  {
   "cell_type": "markdown",
   "id": "d5fd97b6-7f3d-44b7-9a47-da284a894e2a",
   "metadata": {},
   "source": [
    "## DESAFIOS AULA 1"
   ]
  },
  {
   "cell_type": "markdown",
   "id": "66ea7c1c-3adc-42e1-b62d-086699600728",
   "metadata": {},
   "source": [
    "1 - Realizar a média da metragem para cada um dos bairros."
   ]
  },
  {
   "cell_type": "code",
   "execution_count": 54,
   "id": "fe07ed1f-02cc-4585-83ba-68080f1d5dd2",
   "metadata": {},
   "outputs": [
    {
     "data": {
      "text/html": [
       "<div>\n",
       "<style scoped>\n",
       "    .dataframe tbody tr th:only-of-type {\n",
       "        vertical-align: middle;\n",
       "    }\n",
       "\n",
       "    .dataframe tbody tr th {\n",
       "        vertical-align: top;\n",
       "    }\n",
       "\n",
       "    .dataframe thead th {\n",
       "        text-align: right;\n",
       "    }\n",
       "</style>\n",
       "<table border=\"1\" class=\"dataframe\">\n",
       "  <thead>\n",
       "    <tr style=\"text-align: right;\">\n",
       "      <th></th>\n",
       "      <th>Bairro</th>\n",
       "      <th>Metragem</th>\n",
       "    </tr>\n",
       "  </thead>\n",
       "  <tbody>\n",
       "    <tr>\n",
       "      <th>0</th>\n",
       "      <td>Planalto Paulista</td>\n",
       "      <td>1000</td>\n",
       "    </tr>\n",
       "    <tr>\n",
       "      <th>1</th>\n",
       "      <td>Jardim dos Estados</td>\n",
       "      <td>496</td>\n",
       "    </tr>\n",
       "    <tr>\n",
       "      <th>2</th>\n",
       "      <td>Jardim Reimberg</td>\n",
       "      <td>125</td>\n",
       "    </tr>\n",
       "    <tr>\n",
       "      <th>3</th>\n",
       "      <td>Jardim Morumbi</td>\n",
       "      <td>310</td>\n",
       "    </tr>\n",
       "    <tr>\n",
       "      <th>4</th>\n",
       "      <td>Mooca</td>\n",
       "      <td>100</td>\n",
       "    </tr>\n",
       "    <tr>\n",
       "      <th>...</th>\n",
       "      <td>...</td>\n",
       "      <td>...</td>\n",
       "    </tr>\n",
       "    <tr>\n",
       "      <th>10003</th>\n",
       "      <td>Vila Sofia</td>\n",
       "      <td>95</td>\n",
       "    </tr>\n",
       "    <tr>\n",
       "      <th>10004</th>\n",
       "      <td>Bosque da Saúde</td>\n",
       "      <td>605</td>\n",
       "    </tr>\n",
       "    <tr>\n",
       "      <th>10005</th>\n",
       "      <td>Vila da Saúde</td>\n",
       "      <td>205</td>\n",
       "    </tr>\n",
       "    <tr>\n",
       "      <th>10006</th>\n",
       "      <td>Vila Oratório</td>\n",
       "      <td>185</td>\n",
       "    </tr>\n",
       "    <tr>\n",
       "      <th>10007</th>\n",
       "      <td>Vila Alpina</td>\n",
       "      <td>122</td>\n",
       "    </tr>\n",
       "  </tbody>\n",
       "</table>\n",
       "<p>10008 rows × 2 columns</p>\n",
       "</div>"
      ],
      "text/plain": [
       "                   Bairro  Metragem\n",
       "0       Planalto Paulista      1000\n",
       "1      Jardim dos Estados       496\n",
       "2         Jardim Reimberg       125\n",
       "3          Jardim Morumbi       310\n",
       "4                   Mooca       100\n",
       "...                   ...       ...\n",
       "10003          Vila Sofia        95\n",
       "10004     Bosque da Saúde       605\n",
       "10005       Vila da Saúde       205\n",
       "10006       Vila Oratório       185\n",
       "10007         Vila Alpina       122\n",
       "\n",
       "[10008 rows x 2 columns]"
      ]
     },
     "execution_count": 54,
     "metadata": {},
     "output_type": "execute_result"
    }
   ],
   "source": [
    "df_bairro_metragem = dados[[\"Bairro\",\"Metragem\"]]\n",
    "df_bairro_metragem"
   ]
  },
  {
   "cell_type": "code",
   "execution_count": 42,
   "id": "58327cb3-ab77-4307-a5ea-c7fb1284970c",
   "metadata": {},
   "outputs": [
    {
     "data": {
      "text/html": [
       "<div>\n",
       "<style scoped>\n",
       "    .dataframe tbody tr th:only-of-type {\n",
       "        vertical-align: middle;\n",
       "    }\n",
       "\n",
       "    .dataframe tbody tr th {\n",
       "        vertical-align: top;\n",
       "    }\n",
       "\n",
       "    .dataframe thead th {\n",
       "        text-align: right;\n",
       "    }\n",
       "</style>\n",
       "<table border=\"1\" class=\"dataframe\">\n",
       "  <thead>\n",
       "    <tr style=\"text-align: right;\">\n",
       "      <th></th>\n",
       "      <th>Metragem</th>\n",
       "    </tr>\n",
       "    <tr>\n",
       "      <th>Bairro</th>\n",
       "      <th></th>\n",
       "    </tr>\n",
       "  </thead>\n",
       "  <tbody>\n",
       "    <tr>\n",
       "      <th>Aclimação</th>\n",
       "      <td>253.056818</td>\n",
       "    </tr>\n",
       "    <tr>\n",
       "      <th>Alto da Boa Vista</th>\n",
       "      <td>418.875000</td>\n",
       "    </tr>\n",
       "    <tr>\n",
       "      <th>Alto da Lapa</th>\n",
       "      <td>294.337209</td>\n",
       "    </tr>\n",
       "    <tr>\n",
       "      <th>Alto da Mooca</th>\n",
       "      <td>270.050000</td>\n",
       "    </tr>\n",
       "    <tr>\n",
       "      <th>Alto de Pinheiros</th>\n",
       "      <td>433.444988</td>\n",
       "    </tr>\n",
       "    <tr>\n",
       "      <th>...</th>\n",
       "      <td>...</td>\n",
       "    </tr>\n",
       "    <tr>\n",
       "      <th>Vila Água Funda</th>\n",
       "      <td>152.200000</td>\n",
       "    </tr>\n",
       "    <tr>\n",
       "      <th>Água Branca</th>\n",
       "      <td>191.000000</td>\n",
       "    </tr>\n",
       "    <tr>\n",
       "      <th>Água Fria</th>\n",
       "      <td>165.416667</td>\n",
       "    </tr>\n",
       "    <tr>\n",
       "      <th>Água Funda</th>\n",
       "      <td>139.000000</td>\n",
       "    </tr>\n",
       "    <tr>\n",
       "      <th>Água Rasa</th>\n",
       "      <td>340.250000</td>\n",
       "    </tr>\n",
       "  </tbody>\n",
       "</table>\n",
       "<p>701 rows × 1 columns</p>\n",
       "</div>"
      ],
      "text/plain": [
       "                     Metragem\n",
       "Bairro                       \n",
       "Aclimação          253.056818\n",
       "Alto da Boa Vista  418.875000\n",
       "Alto da Lapa       294.337209\n",
       "Alto da Mooca      270.050000\n",
       "Alto de Pinheiros  433.444988\n",
       "...                       ...\n",
       "Vila Água Funda    152.200000\n",
       "Água Branca        191.000000\n",
       "Água Fria          165.416667\n",
       "Água Funda         139.000000\n",
       "Água Rasa          340.250000\n",
       "\n",
       "[701 rows x 1 columns]"
      ]
     },
     "execution_count": 42,
     "metadata": {},
     "output_type": "execute_result"
    }
   ],
   "source": [
    "df_mean_metragem = df_bairro_metragem.groupby([\"Bairro\"]).mean()\n",
    "df_mean_metragem"
   ]
  },
  {
   "cell_type": "code",
   "execution_count": 50,
   "id": "d0148554-23fa-4cd6-94bd-7c6956a2d9c1",
   "metadata": {},
   "outputs": [
    {
     "data": {
      "text/html": [
       "<div>\n",
       "<style scoped>\n",
       "    .dataframe tbody tr th:only-of-type {\n",
       "        vertical-align: middle;\n",
       "    }\n",
       "\n",
       "    .dataframe tbody tr th {\n",
       "        vertical-align: top;\n",
       "    }\n",
       "\n",
       "    .dataframe thead th {\n",
       "        text-align: right;\n",
       "    }\n",
       "</style>\n",
       "<table border=\"1\" class=\"dataframe\">\n",
       "  <thead>\n",
       "    <tr style=\"text-align: right;\">\n",
       "      <th></th>\n",
       "      <th>Media Metragem</th>\n",
       "    </tr>\n",
       "    <tr>\n",
       "      <th>Bairro</th>\n",
       "      <th></th>\n",
       "    </tr>\n",
       "  </thead>\n",
       "  <tbody>\n",
       "    <tr>\n",
       "      <th>Sítio Represa</th>\n",
       "      <td>37000.00</td>\n",
       "    </tr>\n",
       "    <tr>\n",
       "      <th>Vila Castelo</th>\n",
       "      <td>2850.00</td>\n",
       "    </tr>\n",
       "    <tr>\n",
       "      <th>Jardim Guedala</th>\n",
       "      <td>2486.64</td>\n",
       "    </tr>\n",
       "    <tr>\n",
       "      <th>Jardim das Camélias</th>\n",
       "      <td>1700.00</td>\n",
       "    </tr>\n",
       "    <tr>\n",
       "      <th>Chácara Flora</th>\n",
       "      <td>1260.73</td>\n",
       "    </tr>\n",
       "    <tr>\n",
       "      <th>...</th>\n",
       "      <td>...</td>\n",
       "    </tr>\n",
       "    <tr>\n",
       "      <th>Cidade Antônio Estevão de Carvalho</th>\n",
       "      <td>57.50</td>\n",
       "    </tr>\n",
       "    <tr>\n",
       "      <th>Jardim Nova Germania</th>\n",
       "      <td>57.00</td>\n",
       "    </tr>\n",
       "    <tr>\n",
       "      <th>Jardim Benfica</th>\n",
       "      <td>48.00</td>\n",
       "    </tr>\n",
       "    <tr>\n",
       "      <th>Vila Leonor</th>\n",
       "      <td>46.00</td>\n",
       "    </tr>\n",
       "    <tr>\n",
       "      <th>Vila Guaca</th>\n",
       "      <td>10.00</td>\n",
       "    </tr>\n",
       "  </tbody>\n",
       "</table>\n",
       "<p>701 rows × 1 columns</p>\n",
       "</div>"
      ],
      "text/plain": [
       "                                    Media Metragem\n",
       "Bairro                                            \n",
       "Sítio Represa                             37000.00\n",
       "Vila Castelo                               2850.00\n",
       "Jardim Guedala                             2486.64\n",
       "Jardim das Camélias                        1700.00\n",
       "Chácara Flora                              1260.73\n",
       "...                                            ...\n",
       "Cidade Antônio Estevão de Carvalho           57.50\n",
       "Jardim Nova Germania                         57.00\n",
       "Jardim Benfica                               48.00\n",
       "Vila Leonor                                  46.00\n",
       "Vila Guaca                                   10.00\n",
       "\n",
       "[701 rows x 1 columns]"
      ]
     },
     "execution_count": 50,
     "metadata": {},
     "output_type": "execute_result"
    }
   ],
   "source": [
    "df_mean_metragem_sort = df_mean_metragem.sort_values(by=[\"Metragem\"],ascending=False)\n",
    "df_mean_metragem_sort = df_mean_metragem_sort.round({\"Metragem\":2})\n",
    "df = df_mean_metragem_sort.rename(columns={'Metragem': 'Media Metragem'})\n",
    "df"
   ]
  },
  {
   "cell_type": "code",
   "execution_count": 58,
   "id": "54f0cf3f-562c-4d8a-8ba4-7b505d791c7d",
   "metadata": {},
   "outputs": [
    {
     "data": {
      "text/plain": [
       "<AxesSubplot:xlabel='Bairro'>"
      ]
     },
     "execution_count": 58,
     "metadata": {},
     "output_type": "execute_result"
    },
    {
     "data": {
      "image/png": "[encoded data removed]",
      "text/plain": [
       "<Figure size 432x288 with 1 Axes>"
      ]
     },
     "metadata": {
      "needs_background": "light"
     },
     "output_type": "display_data"
    }
   ],
   "source": [
    "df.head(20).plot.bar()"
   ]
  },
  {
   "cell_type": "code",
   "execution_count": 59,
   "id": "11ce38cb-4a2c-4ac0-929f-2781d4752b6e",
   "metadata": {},
   "outputs": [
    {
     "data": {
      "text/plain": [
       "<AxesSubplot:xlabel='Bairro'>"
      ]
     },
     "execution_count": 59,
     "metadata": {},
     "output_type": "execute_result"
    },
    {
     "data": {
      "image/png": "[encoded data removed]",
      "text/plain": [
       "<Figure size 432x288 with 1 Axes>"
      ]
     },
     "metadata": {
      "needs_background": "light"
     },
     "output_type": "display_data"
    }
   ],
   "source": [
    "df.tail(20).plot.bar()"
   ]
  },
  {
   "cell_type": "markdown",
   "id": "3ce0482a-1b3e-4286-9b52-c1db53003d68",
   "metadata": {},
   "source": [
    "2 - Duas formas de selecionar os dados por bairro (consultar os métodos na documentação do Pandas). "
   ]
  },
  {
   "cell_type": "code",
   "execution_count": 60,
   "id": "a36cca58-5ab4-4b07-9229-fb182bd74bab",
   "metadata": {},
   "outputs": [
    {
     "data": {
      "text/plain": [
       "0         Planalto Paulista\n",
       "1        Jardim dos Estados\n",
       "2           Jardim Reimberg\n",
       "3            Jardim Morumbi\n",
       "4                     Mooca\n",
       "                ...        \n",
       "10003            Vila Sofia\n",
       "10004       Bosque da Saúde\n",
       "10005         Vila da Saúde\n",
       "10006         Vila Oratório\n",
       "10007           Vila Alpina\n",
       "Name: Bairro, Length: 10008, dtype: object"
      ]
     },
     "execution_count": 60,
     "metadata": {},
     "output_type": "execute_result"
    }
   ],
   "source": [
    "# Forma 1\n",
    "dados[\"Bairro\"]"
   ]
  },
  {
   "cell_type": "code",
   "execution_count": 62,
   "id": "e4a7884c-f5b5-4ab9-ac71-2aa5de6c95d0",
   "metadata": {},
   "outputs": [
    {
     "data": {
      "text/html": [
       "<div>\n",
       "<style scoped>\n",
       "    .dataframe tbody tr th:only-of-type {\n",
       "        vertical-align: middle;\n",
       "    }\n",
       "\n",
       "    .dataframe tbody tr th {\n",
       "        vertical-align: top;\n",
       "    }\n",
       "\n",
       "    .dataframe thead th {\n",
       "        text-align: right;\n",
       "    }\n",
       "</style>\n",
       "<table border=\"1\" class=\"dataframe\">\n",
       "  <thead>\n",
       "    <tr style=\"text-align: right;\">\n",
       "      <th></th>\n",
       "      <th>Bairro</th>\n",
       "    </tr>\n",
       "  </thead>\n",
       "  <tbody>\n",
       "    <tr>\n",
       "      <th>0</th>\n",
       "      <td>Planalto Paulista</td>\n",
       "    </tr>\n",
       "    <tr>\n",
       "      <th>1</th>\n",
       "      <td>Jardim dos Estados</td>\n",
       "    </tr>\n",
       "    <tr>\n",
       "      <th>2</th>\n",
       "      <td>Jardim Reimberg</td>\n",
       "    </tr>\n",
       "    <tr>\n",
       "      <th>3</th>\n",
       "      <td>Jardim Morumbi</td>\n",
       "    </tr>\n",
       "    <tr>\n",
       "      <th>4</th>\n",
       "      <td>Mooca</td>\n",
       "    </tr>\n",
       "    <tr>\n",
       "      <th>...</th>\n",
       "      <td>...</td>\n",
       "    </tr>\n",
       "    <tr>\n",
       "      <th>10003</th>\n",
       "      <td>Vila Sofia</td>\n",
       "    </tr>\n",
       "    <tr>\n",
       "      <th>10004</th>\n",
       "      <td>Bosque da Saúde</td>\n",
       "    </tr>\n",
       "    <tr>\n",
       "      <th>10005</th>\n",
       "      <td>Vila da Saúde</td>\n",
       "    </tr>\n",
       "    <tr>\n",
       "      <th>10006</th>\n",
       "      <td>Vila Oratório</td>\n",
       "    </tr>\n",
       "    <tr>\n",
       "      <th>10007</th>\n",
       "      <td>Vila Alpina</td>\n",
       "    </tr>\n",
       "  </tbody>\n",
       "</table>\n",
       "<p>10008 rows × 1 columns</p>\n",
       "</div>"
      ],
      "text/plain": [
       "                   Bairro\n",
       "0       Planalto Paulista\n",
       "1      Jardim dos Estados\n",
       "2         Jardim Reimberg\n",
       "3          Jardim Morumbi\n",
       "4                   Mooca\n",
       "...                   ...\n",
       "10003          Vila Sofia\n",
       "10004     Bosque da Saúde\n",
       "10005       Vila da Saúde\n",
       "10006       Vila Oratório\n",
       "10007         Vila Alpina\n",
       "\n",
       "[10008 rows x 1 columns]"
      ]
     },
     "execution_count": 62,
     "metadata": {},
     "output_type": "execute_result"
    }
   ],
   "source": [
    "# Forma 2\n",
    "dados.loc[:,['Bairro']]"
   ]
  },
  {
   "cell_type": "markdown",
   "id": "4ff4a429-1301-4a18-9f53-7fa7fcc7e4ea",
   "metadata": {},
   "source": [
    "3 - Explorar alguns gráficos na documentação e aplicar nas demais colunas do DF, assim como tentar colocar alguma conclusão."
   ]
  },
  {
   "cell_type": "markdown",
   "id": "a2d6895a-0637-49cc-b5d9-4d0e31753398",
   "metadata": {},
   "source": [
    "Relação entre Metragem e Quantidade de Comodos"
   ]
  },
  {
   "cell_type": "code",
   "execution_count": 80,
   "id": "efce2ed6-fff0-40d9-b793-8a775310adbc",
   "metadata": {},
   "outputs": [
    {
     "data": {
      "text/html": [
       "<div>\n",
       "<style scoped>\n",
       "    .dataframe tbody tr th:only-of-type {\n",
       "        vertical-align: middle;\n",
       "    }\n",
       "\n",
       "    .dataframe tbody tr th {\n",
       "        vertical-align: top;\n",
       "    }\n",
       "\n",
       "    .dataframe thead th {\n",
       "        text-align: right;\n",
       "    }\n",
       "</style>\n",
       "<table border=\"1\" class=\"dataframe\">\n",
       "  <thead>\n",
       "    <tr style=\"text-align: right;\">\n",
       "      <th></th>\n",
       "      <th>Metragem</th>\n",
       "      <th>Quartos</th>\n",
       "      <th>Banheiros</th>\n",
       "    </tr>\n",
       "  </thead>\n",
       "  <tbody>\n",
       "    <tr>\n",
       "      <th>0</th>\n",
       "      <td>1000</td>\n",
       "      <td>4</td>\n",
       "      <td>8</td>\n",
       "    </tr>\n",
       "    <tr>\n",
       "      <th>1</th>\n",
       "      <td>496</td>\n",
       "      <td>4</td>\n",
       "      <td>4</td>\n",
       "    </tr>\n",
       "    <tr>\n",
       "      <th>2</th>\n",
       "      <td>125</td>\n",
       "      <td>4</td>\n",
       "      <td>3</td>\n",
       "    </tr>\n",
       "    <tr>\n",
       "      <th>3</th>\n",
       "      <td>310</td>\n",
       "      <td>3</td>\n",
       "      <td>2</td>\n",
       "    </tr>\n",
       "    <tr>\n",
       "      <th>4</th>\n",
       "      <td>100</td>\n",
       "      <td>3</td>\n",
       "      <td>2</td>\n",
       "    </tr>\n",
       "    <tr>\n",
       "      <th>...</th>\n",
       "      <td>...</td>\n",
       "      <td>...</td>\n",
       "      <td>...</td>\n",
       "    </tr>\n",
       "    <tr>\n",
       "      <th>10003</th>\n",
       "      <td>95</td>\n",
       "      <td>2</td>\n",
       "      <td>2</td>\n",
       "    </tr>\n",
       "    <tr>\n",
       "      <th>10004</th>\n",
       "      <td>605</td>\n",
       "      <td>8</td>\n",
       "      <td>7</td>\n",
       "    </tr>\n",
       "    <tr>\n",
       "      <th>10005</th>\n",
       "      <td>205</td>\n",
       "      <td>3</td>\n",
       "      <td>3</td>\n",
       "    </tr>\n",
       "    <tr>\n",
       "      <th>10006</th>\n",
       "      <td>185</td>\n",
       "      <td>3</td>\n",
       "      <td>2</td>\n",
       "    </tr>\n",
       "    <tr>\n",
       "      <th>10007</th>\n",
       "      <td>122</td>\n",
       "      <td>3</td>\n",
       "      <td>2</td>\n",
       "    </tr>\n",
       "  </tbody>\n",
       "</table>\n",
       "<p>10008 rows × 3 columns</p>\n",
       "</div>"
      ],
      "text/plain": [
       "       Metragem  Quartos  Banheiros\n",
       "0          1000        4          8\n",
       "1           496        4          4\n",
       "2           125        4          3\n",
       "3           310        3          2\n",
       "4           100        3          2\n",
       "...         ...      ...        ...\n",
       "10003        95        2          2\n",
       "10004       605        8          7\n",
       "10005       205        3          3\n",
       "10006       185        3          2\n",
       "10007       122        3          2\n",
       "\n",
       "[10008 rows x 3 columns]"
      ]
     },
     "execution_count": 80,
     "metadata": {},
     "output_type": "execute_result"
    }
   ],
   "source": [
    "dados_comodos = dados[[\"Metragem\",\"Quartos\",\"Banheiros\"]]\n",
    "dados_comodos"
   ]
  },
  {
   "cell_type": "code",
   "execution_count": 105,
   "id": "75da1c9d-21ee-4199-82c9-0aea51ffbdaf",
   "metadata": {},
   "outputs": [
    {
     "data": {
      "text/html": [
       "<div>\n",
       "<style scoped>\n",
       "    .dataframe tbody tr th:only-of-type {\n",
       "        vertical-align: middle;\n",
       "    }\n",
       "\n",
       "    .dataframe tbody tr th {\n",
       "        vertical-align: top;\n",
       "    }\n",
       "\n",
       "    .dataframe thead th {\n",
       "        text-align: right;\n",
       "    }\n",
       "</style>\n",
       "<table border=\"1\" class=\"dataframe\">\n",
       "  <thead>\n",
       "    <tr style=\"text-align: right;\">\n",
       "      <th></th>\n",
       "      <th>Metragem</th>\n",
       "      <th>Quartos</th>\n",
       "      <th>Banheiros</th>\n",
       "      <th>Comodos</th>\n",
       "    </tr>\n",
       "  </thead>\n",
       "  <tbody>\n",
       "    <tr>\n",
       "      <th>0</th>\n",
       "      <td>1000</td>\n",
       "      <td>4</td>\n",
       "      <td>8</td>\n",
       "      <td>12</td>\n",
       "    </tr>\n",
       "    <tr>\n",
       "      <th>1</th>\n",
       "      <td>496</td>\n",
       "      <td>4</td>\n",
       "      <td>4</td>\n",
       "      <td>8</td>\n",
       "    </tr>\n",
       "    <tr>\n",
       "      <th>2</th>\n",
       "      <td>125</td>\n",
       "      <td>4</td>\n",
       "      <td>3</td>\n",
       "      <td>7</td>\n",
       "    </tr>\n",
       "    <tr>\n",
       "      <th>3</th>\n",
       "      <td>310</td>\n",
       "      <td>3</td>\n",
       "      <td>2</td>\n",
       "      <td>5</td>\n",
       "    </tr>\n",
       "    <tr>\n",
       "      <th>4</th>\n",
       "      <td>100</td>\n",
       "      <td>3</td>\n",
       "      <td>2</td>\n",
       "      <td>5</td>\n",
       "    </tr>\n",
       "    <tr>\n",
       "      <th>...</th>\n",
       "      <td>...</td>\n",
       "      <td>...</td>\n",
       "      <td>...</td>\n",
       "      <td>...</td>\n",
       "    </tr>\n",
       "    <tr>\n",
       "      <th>10003</th>\n",
       "      <td>95</td>\n",
       "      <td>2</td>\n",
       "      <td>2</td>\n",
       "      <td>4</td>\n",
       "    </tr>\n",
       "    <tr>\n",
       "      <th>10004</th>\n",
       "      <td>605</td>\n",
       "      <td>8</td>\n",
       "      <td>7</td>\n",
       "      <td>15</td>\n",
       "    </tr>\n",
       "    <tr>\n",
       "      <th>10005</th>\n",
       "      <td>205</td>\n",
       "      <td>3</td>\n",
       "      <td>3</td>\n",
       "      <td>6</td>\n",
       "    </tr>\n",
       "    <tr>\n",
       "      <th>10006</th>\n",
       "      <td>185</td>\n",
       "      <td>3</td>\n",
       "      <td>2</td>\n",
       "      <td>5</td>\n",
       "    </tr>\n",
       "    <tr>\n",
       "      <th>10007</th>\n",
       "      <td>122</td>\n",
       "      <td>3</td>\n",
       "      <td>2</td>\n",
       "      <td>5</td>\n",
       "    </tr>\n",
       "  </tbody>\n",
       "</table>\n",
       "<p>10008 rows × 4 columns</p>\n",
       "</div>"
      ],
      "text/plain": [
       "       Metragem  Quartos  Banheiros  Comodos\n",
       "0          1000        4          8       12\n",
       "1           496        4          4        8\n",
       "2           125        4          3        7\n",
       "3           310        3          2        5\n",
       "4           100        3          2        5\n",
       "...         ...      ...        ...      ...\n",
       "10003        95        2          2        4\n",
       "10004       605        8          7       15\n",
       "10005       205        3          3        6\n",
       "10006       185        3          2        5\n",
       "10007       122        3          2        5\n",
       "\n",
       "[10008 rows x 4 columns]"
      ]
     },
     "execution_count": 105,
     "metadata": {},
     "output_type": "execute_result"
    }
   ],
   "source": [
    "dados_comodos = dados_comodos.eval('Comodos = Quartos + Banheiros')\n",
    "dados_comodos"
   ]
  },
  {
   "cell_type": "markdown",
   "id": "6a58c130-5a0d-4380-8a1b-5b7820e4b939",
   "metadata": {},
   "source": [
    "4 - Pegar outras estatísticas dos dados (como média, mediana, mim, max)."
   ]
  },
  {
   "cell_type": "code",
   "execution_count": 68,
   "id": "44c97cc3-db83-4c2d-b63a-3a5594cbe850",
   "metadata": {},
   "outputs": [
    {
     "name": "stdout",
     "output_type": "stream",
     "text": [
      "\n",
      "    Metragem Maxima : 750000\n",
      "    Metragem Minima : 10\n",
      "    Metragem Mediana : 442\n",
      "\n"
     ]
    }
   ],
   "source": [
    "print(f\"\"\"\n",
    "    Metragem Maxima : {max(dados[\"Metragem\"])}\n",
    "    Metragem Minima : {min(dados[\"Metragem\"])}\n",
    "    Metragem Mediana : {round(dados[\"Metragem\"].mean())}\n",
    "\"\"\")"
   ]
  },
  {
   "cell_type": "code",
   "execution_count": 69,
   "id": "4a17b738-28ae-46c3-9068-bf78c2bd6b82",
   "metadata": {},
   "outputs": [
    {
     "name": "stdout",
     "output_type": "stream",
     "text": [
      "\n",
      "    Maior Quantidade de Quarto: 16\n",
      "    Menor Quantidade de Quartoa : 1\n",
      "    Media de Quantidade de Quarto : 3\n",
      "\n"
     ]
    }
   ],
   "source": [
    "print(f\"\"\"\n",
    "    Maior Quantidade de Quarto: {max(dados[\"Quartos\"])}\n",
    "    Menor Quantidade de Quartoa : {min(dados[\"Quartos\"])}\n",
    "    Media de Quantidade de Quarto : {round(dados[\"Quartos\"].mean())}\n",
    "\"\"\")"
   ]
  },
  {
   "cell_type": "code",
   "execution_count": 70,
   "id": "8a1047d6-f7e2-4fa5-887b-2434c2624a58",
   "metadata": {},
   "outputs": [
    {
     "data": {
      "text/html": [
       "<div>\n",
       "<style scoped>\n",
       "    .dataframe tbody tr th:only-of-type {\n",
       "        vertical-align: middle;\n",
       "    }\n",
       "\n",
       "    .dataframe tbody tr th {\n",
       "        vertical-align: top;\n",
       "    }\n",
       "\n",
       "    .dataframe thead th {\n",
       "        text-align: right;\n",
       "    }\n",
       "</style>\n",
       "<table border=\"1\" class=\"dataframe\">\n",
       "  <thead>\n",
       "    <tr style=\"text-align: right;\">\n",
       "      <th></th>\n",
       "      <th>Metragem</th>\n",
       "      <th>Quartos</th>\n",
       "      <th>Banheiros</th>\n",
       "      <th>Vagas</th>\n",
       "    </tr>\n",
       "  </thead>\n",
       "  <tbody>\n",
       "    <tr>\n",
       "      <th>count</th>\n",
       "      <td>10008.000000</td>\n",
       "      <td>10008.000000</td>\n",
       "      <td>10008.000000</td>\n",
       "      <td>10008.000000</td>\n",
       "    </tr>\n",
       "    <tr>\n",
       "      <th>mean</th>\n",
       "      <td>442.300659</td>\n",
       "      <td>3.483114</td>\n",
       "      <td>3.879097</td>\n",
       "      <td>4.097222</td>\n",
       "    </tr>\n",
       "    <tr>\n",
       "      <th>std</th>\n",
       "      <td>7515.379389</td>\n",
       "      <td>1.064200</td>\n",
       "      <td>1.988467</td>\n",
       "      <td>2.824014</td>\n",
       "    </tr>\n",
       "    <tr>\n",
       "      <th>min</th>\n",
       "      <td>10.000000</td>\n",
       "      <td>1.000000</td>\n",
       "      <td>1.000000</td>\n",
       "      <td>1.000000</td>\n",
       "    </tr>\n",
       "    <tr>\n",
       "      <th>25%</th>\n",
       "      <td>173.000000</td>\n",
       "      <td>3.000000</td>\n",
       "      <td>2.000000</td>\n",
       "      <td>2.000000</td>\n",
       "    </tr>\n",
       "    <tr>\n",
       "      <th>50%</th>\n",
       "      <td>290.000000</td>\n",
       "      <td>3.000000</td>\n",
       "      <td>4.000000</td>\n",
       "      <td>4.000000</td>\n",
       "    </tr>\n",
       "    <tr>\n",
       "      <th>75%</th>\n",
       "      <td>460.250000</td>\n",
       "      <td>4.000000</td>\n",
       "      <td>5.000000</td>\n",
       "      <td>5.000000</td>\n",
       "    </tr>\n",
       "    <tr>\n",
       "      <th>max</th>\n",
       "      <td>750000.000000</td>\n",
       "      <td>16.000000</td>\n",
       "      <td>40.000000</td>\n",
       "      <td>50.000000</td>\n",
       "    </tr>\n",
       "  </tbody>\n",
       "</table>\n",
       "</div>"
      ],
      "text/plain": [
       "            Metragem       Quartos     Banheiros         Vagas\n",
       "count   10008.000000  10008.000000  10008.000000  10008.000000\n",
       "mean      442.300659      3.483114      3.879097      4.097222\n",
       "std      7515.379389      1.064200      1.988467      2.824014\n",
       "min        10.000000      1.000000      1.000000      1.000000\n",
       "25%       173.000000      3.000000      2.000000      2.000000\n",
       "50%       290.000000      3.000000      4.000000      4.000000\n",
       "75%       460.250000      4.000000      5.000000      5.000000\n",
       "max    750000.000000     16.000000     40.000000     50.000000"
      ]
     },
     "execution_count": 70,
     "metadata": {},
     "output_type": "execute_result"
    }
   ],
   "source": [
    "dados.describe()"
   ]
  },
  {
   "cell_type": "markdown",
   "id": "5195228e-ea02-4489-81af-7d5b54f9d9eb",
   "metadata": {},
   "source": [
    "5 - Descobrir quais são os bairros que não tem nome de rua."
   ]
  },
  {
   "cell_type": "code",
   "execution_count": 117,
   "id": "b7aabdc1-6f1b-4fc3-b5af-8338863669fe",
   "metadata": {},
   "outputs": [
    {
     "data": {
      "text/html": [
       "<div>\n",
       "<style scoped>\n",
       "    .dataframe tbody tr th:only-of-type {\n",
       "        vertical-align: middle;\n",
       "    }\n",
       "\n",
       "    .dataframe tbody tr th {\n",
       "        vertical-align: top;\n",
       "    }\n",
       "\n",
       "    .dataframe thead th {\n",
       "        text-align: right;\n",
       "    }\n",
       "</style>\n",
       "<table border=\"1\" class=\"dataframe\">\n",
       "  <thead>\n",
       "    <tr style=\"text-align: right;\">\n",
       "      <th></th>\n",
       "      <th>Bairro</th>\n",
       "      <th>Rua</th>\n",
       "    </tr>\n",
       "  </thead>\n",
       "  <tbody>\n",
       "    <tr>\n",
       "      <th>0</th>\n",
       "      <td>Planalto Paulista</td>\n",
       "      <td>Avenida Itacira, 255</td>\n",
       "    </tr>\n",
       "    <tr>\n",
       "      <th>1</th>\n",
       "      <td>Jardim dos Estados</td>\n",
       "      <td>Rua Aurelia Perez Alvarez, 42</td>\n",
       "    </tr>\n",
       "    <tr>\n",
       "      <th>2</th>\n",
       "      <td>Jardim Reimberg</td>\n",
       "      <td>Rua Alba Valdez</td>\n",
       "    </tr>\n",
       "    <tr>\n",
       "      <th>3</th>\n",
       "      <td>Jardim Morumbi</td>\n",
       "      <td>NaN</td>\n",
       "    </tr>\n",
       "    <tr>\n",
       "      <th>4</th>\n",
       "      <td>Mooca</td>\n",
       "      <td>Rua Tobias Barreto, 195</td>\n",
       "    </tr>\n",
       "    <tr>\n",
       "      <th>...</th>\n",
       "      <td>...</td>\n",
       "      <td>...</td>\n",
       "    </tr>\n",
       "    <tr>\n",
       "      <th>10003</th>\n",
       "      <td>Vila Sofia</td>\n",
       "      <td>Rua Tapuçu</td>\n",
       "    </tr>\n",
       "    <tr>\n",
       "      <th>10004</th>\n",
       "      <td>Bosque da Saúde</td>\n",
       "      <td>Rua Guararema</td>\n",
       "    </tr>\n",
       "    <tr>\n",
       "      <th>10005</th>\n",
       "      <td>Vila da Saúde</td>\n",
       "      <td>Rua Estero Belaco</td>\n",
       "    </tr>\n",
       "    <tr>\n",
       "      <th>10006</th>\n",
       "      <td>Vila Oratório</td>\n",
       "      <td>Rua Manuel Onha, , 514</td>\n",
       "    </tr>\n",
       "    <tr>\n",
       "      <th>10007</th>\n",
       "      <td>Vila Alpina</td>\n",
       "      <td>Rua Barão de Tramandaí, 0</td>\n",
       "    </tr>\n",
       "  </tbody>\n",
       "</table>\n",
       "<p>10008 rows × 2 columns</p>\n",
       "</div>"
      ],
      "text/plain": [
       "                   Bairro                             Rua\n",
       "0       Planalto Paulista           Avenida Itacira, 255 \n",
       "1      Jardim dos Estados  Rua Aurelia Perez Alvarez, 42 \n",
       "2         Jardim Reimberg                 Rua Alba Valdez\n",
       "3          Jardim Morumbi                             NaN\n",
       "4                   Mooca        Rua Tobias Barreto, 195 \n",
       "...                   ...                             ...\n",
       "10003          Vila Sofia                      Rua Tapuçu\n",
       "10004     Bosque da Saúde                   Rua Guararema\n",
       "10005       Vila da Saúde               Rua Estero Belaco\n",
       "10006       Vila Oratório         Rua Manuel Onha, , 514 \n",
       "10007         Vila Alpina      Rua Barão de Tramandaí, 0 \n",
       "\n",
       "[10008 rows x 2 columns]"
      ]
     },
     "execution_count": 117,
     "metadata": {},
     "output_type": "execute_result"
    }
   ],
   "source": [
    "dados_rua_bairro = dados[[\"Bairro\",\"Rua\"]]\n",
    "dados_rua_bairro"
   ]
  },
  {
   "cell_type": "code",
   "execution_count": 121,
   "id": "27bdcd84-edc1-4ab5-bafe-99cc556a7df5",
   "metadata": {},
   "outputs": [
    {
     "data": {
      "text/plain": [
       "3434"
      ]
     },
     "execution_count": 121,
     "metadata": {},
     "output_type": "execute_result"
    }
   ],
   "source": [
    "dados_rua_bairro[\"Rua\"].isnull().sum()"
   ]
  },
  {
   "cell_type": "code",
   "execution_count": 129,
   "id": "5e96e2b4-ba4b-48b9-99d9-0cd95c585850",
   "metadata": {},
   "outputs": [
    {
     "data": {
      "text/plain": [
       "3                         Jardim Morumbi\n",
       "11                      Jardim Luzitânia\n",
       "31                        Parque da Lapa\n",
       "56      Chácara Santo Antônio (Zona Sul)\n",
       "57                        Jardim Guedala\n",
       "                      ...               \n",
       "9963                   Jardim Petrópolis\n",
       "9989                Parque Alves de Lima\n",
       "9991                        Vila Formosa\n",
       "9995                       Jardim Leonor\n",
       "9999                   Jardim Petrópolis\n",
       "Name: Bairro, Length: 3434, dtype: object"
      ]
     },
     "execution_count": 129,
     "metadata": {},
     "output_type": "execute_result"
    }
   ],
   "source": [
    "bool_rua = pd.isnull(dados_rua_bairro[\"Rua\"])\n",
    "bairros = dados_rua_bairro[bool_rua][\"Bairro\"]\n",
    "bairros"
   ]
  },
  {
   "cell_type": "code",
   "execution_count": 131,
   "id": "e2b2b2e0-203f-4308-994b-a411a367af4e",
   "metadata": {},
   "outputs": [
    {
     "data": {
      "text/plain": [
       "394"
      ]
     },
     "execution_count": 131,
     "metadata": {},
     "output_type": "execute_result"
    }
   ],
   "source": [
    "len(bairros.unique())"
   ]
  },
  {
   "cell_type": "code",
   "execution_count": 132,
   "id": "114adfa2-4d6e-4a81-8127-d30d7137371f",
   "metadata": {},
   "outputs": [
    {
     "data": {
      "text/plain": [
       "array(['Jardim Morumbi', 'Jardim Luzitânia', 'Parque da Lapa',\n",
       "       'Chácara Santo Antônio (Zona Sul)', 'Jardim Guedala',\n",
       "       'Vila Arriete', 'Alto de Pinheiros', 'Planalto Paulista',\n",
       "       'Vila Moinho Velho', 'Brooklin Paulista', 'Sumaré',\n",
       "       'Jardim Paulista', 'Vila Gustavo', 'Jardim Trussardi',\n",
       "       'Vila Madalena', 'Jardim dos Estados', 'Vila Santos',\n",
       "       'Jardim Europa', 'Butantã', 'Jardim Paulistano',\n",
       "       'Jardim Petrópolis', 'Vila Mariana', 'Vila Aparecida', 'Siciliano',\n",
       "       'Alto da Lapa', 'Jardim da Glória', 'Morumbi', 'Vila Ida',\n",
       "       'Cidade Jardim', 'Cidade Dutra', 'Água Fria', 'Parque Boturussu',\n",
       "       'Belenzinho', 'Vila Sônia', 'Jardim Panorama', 'Jardim Ampliação',\n",
       "       'Lauzane Paulista', 'Vila Sabrina', 'Vila Olímpia',\n",
       "       'Jardim Franca', 'Jardim Sílvia (Zona Oeste)', 'Santo Amaro',\n",
       "       'Mooca', 'Jardim América', 'Interlagos', 'Pacaembu',\n",
       "       'Jardim Santo Amaro', 'Vila Matilde', 'Vila Prudente',\n",
       "       'Vila Nova Conceição', 'Jardim Camargo Novo', 'Jardim Planalto',\n",
       "       'Santana', 'Jardim Patente Novo', 'Jardim das Camélias',\n",
       "       'Jardim Virginia Bianca', 'Jardim Viana',\n",
       "       'Jardim Célia (Zona Sul)', 'Parque Guarani', 'Vila Brasilina',\n",
       "       'Vila Antonieta', 'Vila Ema', 'Boaçava', 'Vila Morse',\n",
       "       'Itaim Bibi', 'Conjunto Residencial Vista Verde',\n",
       "       'Parque São Domingos', 'Jardim Leonor', 'Vila Albertina',\n",
       "       'Jardim Santo Elias', 'Vila Morumbi', 'Chácara Japonesa',\n",
       "       'Penha de França', 'Chácara Inglesa', 'City América', 'Pinheiros',\n",
       "       'Ipiranga', 'Jardim Everest', 'Vila Londrina', 'Vila Santa Maria',\n",
       "       'Cidade São Mateus', 'Paraíso', 'Tucuruvi', 'Vila Bertioga',\n",
       "       'Vila Cláudia', 'Vila Inah', 'Jardim Cordeiro', 'Fazenda Morumbi',\n",
       "       'Cidade Patriarca', 'Jardim Santa Maria', 'Chácara Monte Alegre',\n",
       "       'Parque Continental', 'Vila Sílvia', 'Bosque da Saúde',\n",
       "       'Jardim Celeste', 'Vila Comercial', 'Vila Monumento', 'Vila Gea',\n",
       "       'Vila Lageado', 'Vila Perus', 'Jardim Satélite', 'Cidade Monções',\n",
       "       'Consolação', 'Paineiras do Morumbi', 'Vila Progredior',\n",
       "       'Lapa de Baixo', 'Vila Araguaia', 'Vila Lúcia', 'Granja Julieta',\n",
       "       'Indianópolis', 'Jardim Prudência', 'Vila São Francisco',\n",
       "       'Lar São Paulo', 'Brooklin Novo', 'Perdizes', 'Cambuci', 'Lapa',\n",
       "       'Vila Palmeiras', 'Chácara Califórnia', 'Campo Belo',\n",
       "       'Instituto de Previdência', 'Vila Pompéia', 'Jardim Umuarama',\n",
       "       'Jardim Marajoara', 'Parque Colonial', 'Vila Leopoldina',\n",
       "       'Jardim Novo Mundo', 'Vila Tramontano', 'Jardim das Bandeiras',\n",
       "       'Jardim Monte Kemel', 'Vila Cordeiro', 'Retiro Morumbi',\n",
       "       'Vila Guarani (Z Sul)', 'Vila Cruzeiro', 'Sumarezinho',\n",
       "       'Itaberaba', 'Vila Salete', 'Chora Menino', 'Vila Campo Grande',\n",
       "       'Jardim Ana Maria', 'Vila Nova Caledonia', 'Vila Carbone',\n",
       "       'Vila Adalgisa', 'Mirandópolis', 'Jardim Bonfiglioli',\n",
       "       'Jardim Ester', 'Caxingui', 'Vila São Silvestre',\n",
       "       'Chácara Tatuapé', 'Real Parque', 'Cidade Domitila',\n",
       "       'Jardim Vila Mariana', \"Jardim Panorama D'Oeste\", 'Vila Suzana',\n",
       "       'Santa Cecília', 'Parque Residencial Oratorio', 'Parque da Mooca',\n",
       "       'Jardim Santa Cruz (Campo Grande)', 'Higienópolis',\n",
       "       'Jardim Triana', 'Moema', 'Cidade Centenário', 'Jaguaré',\n",
       "       'Jardim Miriam', 'Vila Oratório', 'Vila Clementino',\n",
       "       'Vila Ipojuca', 'Barra Funda', 'Jardim Petropolis',\n",
       "       'Jardim Vitória Régia', 'Vila Jacuí', 'Vila Califórnia(Zona Sul)',\n",
       "       'Vila Mafra', 'Vila Anhangüera', 'Jardim Consórcio', 'Vila Alpina',\n",
       "       'Jardim Rizzo', 'Vila Império', 'Vila Inglesa', 'Vila Nova Curuçá',\n",
       "       'Vila Paiva', 'Jardim Analia Franco', 'Saúde', 'Vila Prado',\n",
       "       'Tatuapé', 'Aclimação', 'Jardim Eliana', 'Paraíso do Morumbi',\n",
       "       'Jardim Teresa', 'Jardim Brasília (Zona Leste)', 'Jardim Danfer',\n",
       "       'Vila Romana', 'Vila Pedroso', 'Vila Brasílio Machado',\n",
       "       'Vila Anglo Brasileira', 'Vila Antônio', 'Chácara Meyer',\n",
       "       'Vila Paulicéia', 'Rio Pequeno', 'Jardim Santa Helena',\n",
       "       'Jardim Taboão', 'Parque Mandaqui', 'Capão Redondo',\n",
       "       'Vila Alexandria', 'Super Quadra Morumbi', 'Vila Ré',\n",
       "       'Parque Jabaquara', 'Jardim Londrina', 'Parque Novo Mundo',\n",
       "       'Jardim das Acácias', 'Vila Cardoso Franco', 'Jardim Campo Grande',\n",
       "       'Jardim Textil', 'Vila Mazzei', 'Vila Andrade', 'Jardim da Saúde',\n",
       "       'Jardim Colombo', 'Vila Nair', 'Quinta da Paineira',\n",
       "       'Jardim Gonzaga', 'Liberdade', 'Vila Carrão',\n",
       "       'Jardim Brasil (Zona Sul)', 'Parque São Lucas', 'Jardim Floresta',\n",
       "       'Chácara Mafalda', 'Vila ESão Pauloerança', 'Vila Nova Caledônia',\n",
       "       'Alto da Boa Vista', 'Vila Medeiros', 'Vila América',\n",
       "       'Vila Analia', 'Parque Santa Rita', 'Vila Moraes',\n",
       "       'Vila Rui Barbosa', 'Vila Bela', 'Jardim Amália',\n",
       "       'Parque da Vila Prudente', 'Vila Santana', 'Vila Canero',\n",
       "       'Vila Primavera', 'Brasilândia', 'Vila do Encontro',\n",
       "       'Jardim Ernestina', 'Jabaquara', 'Jardim Maria Duarte',\n",
       "       'Cidade Vargas', 'Jardim Hípico', 'Parada XV de Novembro',\n",
       "       'Jardim Bélgica', 'Jardim Jussara', 'Vila Formosa',\n",
       "       'Jardim São Carlos (Zona Sul)', 'Parque dos Príncipes',\n",
       "       'Vila Gomes Cardim', 'Vila Polopoli', 'Vila Macedópolis',\n",
       "       'Vila Virginia', 'Vila Boaçava', 'Água Branca', 'Bela Aliança',\n",
       "       'Tremembé', 'Cerqueira César', 'Jardim Cidade Pirituba',\n",
       "       'Vila Agueda', 'Vila Firmiano Pinto', 'Jardim Monte Alegre',\n",
       "       'Jardim Patente', 'Vila Buenos Aires', 'Jardim Jabaquara',\n",
       "       'Jardim Morro Verde', 'Vila Santa Catarina', 'Vila Califórnia',\n",
       "       'Jardim Ponte Rasa', 'Jardim Marília', 'Vila Guedes',\n",
       "       'Vila Congonhas', 'Jardim Vivan', 'Jardim Vila Carrão', 'Sacomã',\n",
       "       'Jardim Castelo', 'Vila Barbosa', 'Parque Imperial', 'Campininha',\n",
       "       'Jaraguá', 'Jardim Coimbra', 'Jardim Anália Franco',\n",
       "       'Vila Bancária Munhoz', 'Vila Ester (Zona Norte)', 'Brás',\n",
       "       'Alto da Mooca', 'Ferreira', 'Jardim Cidália', 'Cidade Ademar',\n",
       "       'Nova Piraju', \"Jardim D'Abril\", 'Paraisópolis',\n",
       "       'Parque Nações Unidas', 'Vila Gumercindo', 'Jardim Aeroporto',\n",
       "       'Brooklin', 'Vila Caraguatá', 'Jardim do Colégio (Zona Norte)',\n",
       "       'Parque Peruche', 'Chácara Belenzinho',\n",
       "       'Conjunto Residencial Butantã', 'Vila das Belezas',\n",
       "       'Burgo Paulista', 'Vila Paulista', 'Jardim Japão',\n",
       "       'Praia Paulistinha', 'Vila Antonina', 'Vila Sao Paulo',\n",
       "       'Vila Monte Alegre', 'Jardim Heliomar', 'Vila Ivg', 'Vila Curuçá',\n",
       "       'Vila Vera', 'Água Funda', 'Vila Romero', 'Vila Isa',\n",
       "       'Vila Talarico', 'Jardim Peri', 'Vila Dom Pedro I', 'Vila Simone',\n",
       "       'Vila Nivi', 'Vila São Paulo', 'Vila Bela Aliança',\n",
       "       'Vila São José (Ipiranga)', 'Vila Marieta', 'Vila das Mercês',\n",
       "       'Jardim Sarah', 'Vila Gomes', 'Vila Ayrosa', 'Jardim Dom Bosco',\n",
       "       'Parque Savoy City', 'Jardim Ester Yolanda', 'Chácara Flora',\n",
       "       'Vila Elvira', 'Vila Romano', 'Jardim Guarau',\n",
       "       'Vila Santo Estéfano', 'Vila Paulo Silas', 'Vila Carmosina',\n",
       "       'Jardim das Vertentes', 'Conjunto Residencial Morada do Sol',\n",
       "       'Jardim Tremembe', 'Parque Casa de Pedra', 'Vila Vasconcelos',\n",
       "       'Jardim Boa Vista (Zona Oeste)', 'Jardim Sul São Paulo',\n",
       "       'Jardim Vergueiro (Sacomã)', 'Vila Mira', 'Jardim Maria Estela',\n",
       "       'Jardim Rincão', 'Jardim Sabará', 'Aricanduva',\n",
       "       'Jardim Palmares (Zona Sul)', 'Vila Regente Feijó', 'Vila Darli',\n",
       "       'Jardim Nice', 'Vila Constancia', 'Jardim Pirituba', 'Vila Marari',\n",
       "       'Parque Maria Domitila', 'Parque Santo Antônio (Aricanduva)',\n",
       "       'Jardim Cidalia', 'Vila Tiradentes', 'Vila Sonia',\n",
       "       'Vila Gertrudes', 'Parque Edu Chaves', 'Parque São Rafael',\n",
       "       'Conjunto Habitacional Castro Alves', 'Cidade Mãe do Céu',\n",
       "       'Vila da Saúde', 'Itaquera', 'Vila Conde do Pinhal',\n",
       "       'Parque Monteiro Soares', 'Jardim Leonor Mendes de Barros',\n",
       "       'Vila Santa Clara', 'Sítio do Mandaqui', 'Jardim Independência',\n",
       "       'Vila Nova Pauliceia', 'Cidade Antônio Estevão de Carvalho',\n",
       "       'Vila Maria Alta', 'Vila Ponte Rasa', 'Jardim Guanca',\n",
       "       'Engenheiro Goulart', 'Vila Mascote', 'Jardim Vila Formosa',\n",
       "       'Cupecê', 'Jardim Itacolomi', 'Água Rasa', 'Parque Alves de Lima'],\n",
       "      dtype=object)"
      ]
     },
     "execution_count": 132,
     "metadata": {},
     "output_type": "execute_result"
    }
   ],
   "source": [
    "bairros.unique()"
   ]
  },
  {
   "cell_type": "code",
   "execution_count": null,
   "id": "e72de465-6db3-4201-bd35-3237f48b3eda",
   "metadata": {},
   "outputs": [],
   "source": []
  }
 ],
 "metadata": {
  "kernelspec": {
   "display_name": "venv",
   "language": "python",
   "name": "venv"
  },
  "language_info": {
   "codemirror_mode": {
    "name": "ipython",
    "version": 3
   },
   "file_extension": ".py",
   "mimetype": "text/x-python",
   "name": "python",
   "nbconvert_exporter": "python",
   "pygments_lexer": "ipython3",
   "version": "3.9.10"
  }
 },
 "nbformat": 4,
 "nbformat_minor": 5
}
