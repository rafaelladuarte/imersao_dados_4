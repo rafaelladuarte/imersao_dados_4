{
 "cells": [
  {
   "cell_type": "markdown",
   "metadata": {},
   "source": [
    "# Imersão Dados 4 - Aula 5"
   ]
  },
  {
   "cell_type": "markdown",
   "metadata": {},
   "source": [
    "* Importando as bibliotecas"
   ]
  },
  {
   "cell_type": "code",
   "execution_count": 1,
   "metadata": {},
   "outputs": [],
   "source": [
    "import matplotlib.pyplot as plt\n",
    "import seaborn as sns\n",
    "import pandas as pd\n",
    "import numpy as np"
   ]
  },
  {
   "cell_type": "code",
   "execution_count": 2,
   "metadata": {},
   "outputs": [],
   "source": [
    "from sklearn.metrics import mean_absolute_error, r2_score\n",
    "from sklearn.model_selection import train_test_split\n",
    "from sklearn.linear_model import LinearRegression"
   ]
  },
  {
   "cell_type": "code",
   "execution_count": 3,
   "metadata": {},
   "outputs": [],
   "source": [
    "dados_vendas_censo = pd.read_csv(\"/home/Rafaella.Duarte/Documentos/pasta_pessoal/precificacao_imoveis/Imersao_Dados/Dados/dados_vendas_censo.csv\")"
   ]
  },
  {
   "cell_type": "code",
   "execution_count": 4,
   "metadata": {
    "colab": {
     "base_uri": "https://localhost:8080/"
    },
    "id": "cQ0wPATP15_o",
    "outputId": "6bcdd6b5-e4f7-421f-9150-dd24835f70fe"
   },
   "outputs": [
    {
     "name": "stdout",
     "output_type": "stream",
     "text": [
      "<class 'pandas.core.frame.DataFrame'>\n",
      "RangeIndex: 5605 entries, 0 to 5604\n",
      "Data columns (total 51 columns):\n",
      " #   Column                 Non-Null Count  Dtype  \n",
      "---  ------                 --------------  -----  \n",
      " 0   Rua                    5605 non-null   object \n",
      " 1   Bairro                 5597 non-null   object \n",
      " 2   Cidade                 5605 non-null   object \n",
      " 3   Metragem               5605 non-null   int64  \n",
      " 4   Quartos                5605 non-null   int64  \n",
      " 5   Banheiros              5605 non-null   int64  \n",
      " 6   Vagas                  5605 non-null   int64  \n",
      " 7   Valor                  5605 non-null   object \n",
      " 8   Valor_anuncio          5605 non-null   float64\n",
      " 9   Tipo_anuncio           0 non-null      float64\n",
      " 10  Valor_mm               5605 non-null   float64\n",
      " 11  Valor_m2               5605 non-null   float64\n",
      " 12  rua                    5605 non-null   object \n",
      " 13  cep                    5605 non-null   float64\n",
      " 14  latitude               5605 non-null   float64\n",
      " 15  longitude              5605 non-null   float64\n",
      " 16  Point                  5605 non-null   object \n",
      " 17  setor_censo            5320 non-null   float64\n",
      " 18  Cod_setor              5316 non-null   float64\n",
      " 19  Cod_Grandes Regiï¿½es  5316 non-null   float64\n",
      " 20  Nome_Grande_Regiao     5316 non-null   object \n",
      " 21  Cod_UF                 5316 non-null   float64\n",
      " 22  Nome_da_UF             5316 non-null   object \n",
      " 23  Cod_meso               5316 non-null   float64\n",
      " 24  Nome_da_meso           5316 non-null   object \n",
      " 25  Cod_micro              5316 non-null   float64\n",
      " 26  Nome_da_micro          5316 non-null   object \n",
      " 27  Cod_RM                 5316 non-null   float64\n",
      " 28  Nome_da_RM             5316 non-null   object \n",
      " 29  Cod_municipio          5316 non-null   float64\n",
      " 30  Nome_do_municipio      5316 non-null   object \n",
      " 31  Cod_distrito           5316 non-null   float64\n",
      " 32  Nome_do_distrito       5316 non-null   object \n",
      " 33  Cod_subdistrito        5316 non-null   float64\n",
      " 34  Nome_do_subdistrito    5316 non-null   object \n",
      " 35  Cod_bairro             5316 non-null   float64\n",
      " 36  Nome_do_bairro         5316 non-null   object \n",
      " 37  Situacao_setor         5316 non-null   float64\n",
      " 38  Tipo_setor             5316 non-null   float64\n",
      " 39  V001                   5316 non-null   float64\n",
      " 40  V002                   5316 non-null   float64\n",
      " 41  V003                   5316 non-null   float64\n",
      " 42  V004                   5316 non-null   float64\n",
      " 43  V005                   5316 non-null   float64\n",
      " 44  V006                   5316 non-null   float64\n",
      " 45  V007                   5316 non-null   float64\n",
      " 46  V008                   5316 non-null   float64\n",
      " 47  V009                   5316 non-null   float64\n",
      " 48  V010                   5316 non-null   float64\n",
      " 49  V011                   5316 non-null   float64\n",
      " 50  V012                   5316 non-null   float64\n",
      "dtypes: float64(32), int64(4), object(15)\n",
      "memory usage: 2.2+ MB\n"
     ]
    }
   ],
   "source": [
    "dados_vendas_censo.info()"
   ]
  },
  {
   "cell_type": "code",
   "execution_count": 5,
   "metadata": {},
   "outputs": [
    {
     "data": {
      "text/html": [
       "<div>\n",
       "<style scoped>\n",
       "    .dataframe tbody tr th:only-of-type {\n",
       "        vertical-align: middle;\n",
       "    }\n",
       "\n",
       "    .dataframe tbody tr th {\n",
       "        vertical-align: top;\n",
       "    }\n",
       "\n",
       "    .dataframe thead th {\n",
       "        text-align: right;\n",
       "    }\n",
       "</style>\n",
       "<table border=\"1\" class=\"dataframe\">\n",
       "  <thead>\n",
       "    <tr style=\"text-align: right;\">\n",
       "      <th></th>\n",
       "      <th>Rua</th>\n",
       "      <th>Bairro</th>\n",
       "      <th>Cidade</th>\n",
       "      <th>Metragem</th>\n",
       "      <th>Quartos</th>\n",
       "      <th>Banheiros</th>\n",
       "      <th>Vagas</th>\n",
       "      <th>Valor_anuncio</th>\n",
       "      <th>Valor_mm</th>\n",
       "      <th>Valor_m2</th>\n",
       "      <th>...</th>\n",
       "      <th>V003</th>\n",
       "      <th>V004</th>\n",
       "      <th>V005</th>\n",
       "      <th>V006</th>\n",
       "      <th>V007</th>\n",
       "      <th>V008</th>\n",
       "      <th>V009</th>\n",
       "      <th>V010</th>\n",
       "      <th>V011</th>\n",
       "      <th>V012</th>\n",
       "    </tr>\n",
       "  </thead>\n",
       "  <tbody>\n",
       "    <tr>\n",
       "      <th>0</th>\n",
       "      <td>Avenida Itacira, 255</td>\n",
       "      <td>Planalto Paulista</td>\n",
       "      <td>São Paulo</td>\n",
       "      <td>1000</td>\n",
       "      <td>4</td>\n",
       "      <td>8</td>\n",
       "      <td>6</td>\n",
       "      <td>7000000.0</td>\n",
       "      <td>7.000</td>\n",
       "      <td>7000.000000</td>\n",
       "      <td>...</td>\n",
       "      <td>2.66</td>\n",
       "      <td>2.04</td>\n",
       "      <td>3158.96</td>\n",
       "      <td>22210644.93</td>\n",
       "      <td>5570.65</td>\n",
       "      <td>25770816.97</td>\n",
       "      <td>2096.19</td>\n",
       "      <td>13029851.56</td>\n",
       "      <td>3930.35</td>\n",
       "      <td>17241576.74</td>\n",
       "    </tr>\n",
       "    <tr>\n",
       "      <th>1</th>\n",
       "      <td>Rua Aurelia Perez Alvarez, 42</td>\n",
       "      <td>Jardim dos Estados</td>\n",
       "      <td>São Paulo</td>\n",
       "      <td>496</td>\n",
       "      <td>4</td>\n",
       "      <td>4</td>\n",
       "      <td>4</td>\n",
       "      <td>3700000.0</td>\n",
       "      <td>3.700</td>\n",
       "      <td>7459.677419</td>\n",
       "      <td>...</td>\n",
       "      <td>3.13</td>\n",
       "      <td>1.96</td>\n",
       "      <td>7600.44</td>\n",
       "      <td>36778930.17</td>\n",
       "      <td>7890.53</td>\n",
       "      <td>35886906.64</td>\n",
       "      <td>4149.00</td>\n",
       "      <td>26760682.90</td>\n",
       "      <td>6063.92</td>\n",
       "      <td>27502674.90</td>\n",
       "    </tr>\n",
       "    <tr>\n",
       "      <th>2</th>\n",
       "      <td>Rua Alba Valdez</td>\n",
       "      <td>Jardim Reimberg</td>\n",
       "      <td>São Paulo</td>\n",
       "      <td>125</td>\n",
       "      <td>4</td>\n",
       "      <td>3</td>\n",
       "      <td>2</td>\n",
       "      <td>380000.0</td>\n",
       "      <td>0.380</td>\n",
       "      <td>3040.000000</td>\n",
       "      <td>...</td>\n",
       "      <td>3.47</td>\n",
       "      <td>3.06</td>\n",
       "      <td>805.13</td>\n",
       "      <td>769188.78</td>\n",
       "      <td>1011.75</td>\n",
       "      <td>757433.42</td>\n",
       "      <td>518.77</td>\n",
       "      <td>426672.78</td>\n",
       "      <td>858.51</td>\n",
       "      <td>414378.88</td>\n",
       "    </tr>\n",
       "    <tr>\n",
       "      <th>3</th>\n",
       "      <td>Rua Tobias Barreto, 195</td>\n",
       "      <td>Mooca</td>\n",
       "      <td>São Paulo</td>\n",
       "      <td>100</td>\n",
       "      <td>3</td>\n",
       "      <td>2</td>\n",
       "      <td>2</td>\n",
       "      <td>540000.0</td>\n",
       "      <td>0.540</td>\n",
       "      <td>5400.000000</td>\n",
       "      <td>...</td>\n",
       "      <td>3.00</td>\n",
       "      <td>1.99</td>\n",
       "      <td>2338.05</td>\n",
       "      <td>7826370.15</td>\n",
       "      <td>2447.89</td>\n",
       "      <td>7925839.76</td>\n",
       "      <td>1543.29</td>\n",
       "      <td>4646566.16</td>\n",
       "      <td>1909.04</td>\n",
       "      <td>5050712.69</td>\n",
       "    </tr>\n",
       "    <tr>\n",
       "      <th>4</th>\n",
       "      <td>Rua Graham Bell</td>\n",
       "      <td>Santo Amaro</td>\n",
       "      <td>São Paulo</td>\n",
       "      <td>440</td>\n",
       "      <td>4</td>\n",
       "      <td>4</td>\n",
       "      <td>6</td>\n",
       "      <td>1980000.0</td>\n",
       "      <td>1.980</td>\n",
       "      <td>4500.000000</td>\n",
       "      <td>...</td>\n",
       "      <td>3.51</td>\n",
       "      <td>2.31</td>\n",
       "      <td>1026.36</td>\n",
       "      <td>272168.67</td>\n",
       "      <td>1143.96</td>\n",
       "      <td>167733.64</td>\n",
       "      <td>735.67</td>\n",
       "      <td>367088.08</td>\n",
       "      <td>1086.94</td>\n",
       "      <td>159622.46</td>\n",
       "    </tr>\n",
       "    <tr>\n",
       "      <th>...</th>\n",
       "      <td>...</td>\n",
       "      <td>...</td>\n",
       "      <td>...</td>\n",
       "      <td>...</td>\n",
       "      <td>...</td>\n",
       "      <td>...</td>\n",
       "      <td>...</td>\n",
       "      <td>...</td>\n",
       "      <td>...</td>\n",
       "      <td>...</td>\n",
       "      <td>...</td>\n",
       "      <td>...</td>\n",
       "      <td>...</td>\n",
       "      <td>...</td>\n",
       "      <td>...</td>\n",
       "      <td>...</td>\n",
       "      <td>...</td>\n",
       "      <td>...</td>\n",
       "      <td>...</td>\n",
       "      <td>...</td>\n",
       "      <td>...</td>\n",
       "    </tr>\n",
       "    <tr>\n",
       "      <th>5599</th>\n",
       "      <td>Rua Pedro Teixeira</td>\n",
       "      <td>Vila Olímpia</td>\n",
       "      <td>São Paulo</td>\n",
       "      <td>157</td>\n",
       "      <td>3</td>\n",
       "      <td>2</td>\n",
       "      <td>2</td>\n",
       "      <td>960000.0</td>\n",
       "      <td>0.960</td>\n",
       "      <td>6114.649682</td>\n",
       "      <td>...</td>\n",
       "      <td>2.17</td>\n",
       "      <td>1.27</td>\n",
       "      <td>5054.58</td>\n",
       "      <td>33245189.73</td>\n",
       "      <td>5231.93</td>\n",
       "      <td>33485189.78</td>\n",
       "      <td>3649.06</td>\n",
       "      <td>26562232.53</td>\n",
       "      <td>4551.66</td>\n",
       "      <td>29032823.35</td>\n",
       "    </tr>\n",
       "    <tr>\n",
       "      <th>5600</th>\n",
       "      <td>Avenida Odila</td>\n",
       "      <td>Planalto Paulista</td>\n",
       "      <td>São Paulo</td>\n",
       "      <td>267</td>\n",
       "      <td>3</td>\n",
       "      <td>6</td>\n",
       "      <td>4</td>\n",
       "      <td>1500000.0</td>\n",
       "      <td>1.500</td>\n",
       "      <td>5617.977528</td>\n",
       "      <td>...</td>\n",
       "      <td>2.81</td>\n",
       "      <td>1.60</td>\n",
       "      <td>4249.33</td>\n",
       "      <td>24499871.44</td>\n",
       "      <td>5180.14</td>\n",
       "      <td>25047413.33</td>\n",
       "      <td>2618.76</td>\n",
       "      <td>17705032.31</td>\n",
       "      <td>3977.93</td>\n",
       "      <td>21495997.85</td>\n",
       "    </tr>\n",
       "    <tr>\n",
       "      <th>5601</th>\n",
       "      <td>Rua Tapuçu</td>\n",
       "      <td>Vila Sofia</td>\n",
       "      <td>São Paulo</td>\n",
       "      <td>95</td>\n",
       "      <td>2</td>\n",
       "      <td>2</td>\n",
       "      <td>2</td>\n",
       "      <td>665000.0</td>\n",
       "      <td>0.665</td>\n",
       "      <td>7000.000000</td>\n",
       "      <td>...</td>\n",
       "      <td>2.99</td>\n",
       "      <td>1.81</td>\n",
       "      <td>2425.09</td>\n",
       "      <td>6878872.25</td>\n",
       "      <td>2543.80</td>\n",
       "      <td>6913867.79</td>\n",
       "      <td>1561.58</td>\n",
       "      <td>4261814.01</td>\n",
       "      <td>2062.09</td>\n",
       "      <td>4596759.57</td>\n",
       "    </tr>\n",
       "    <tr>\n",
       "      <th>5603</th>\n",
       "      <td>Rua Estero Belaco</td>\n",
       "      <td>Vila da Saúde</td>\n",
       "      <td>São Paulo</td>\n",
       "      <td>205</td>\n",
       "      <td>3</td>\n",
       "      <td>3</td>\n",
       "      <td>6</td>\n",
       "      <td>1050000.0</td>\n",
       "      <td>1.050</td>\n",
       "      <td>5121.951220</td>\n",
       "      <td>...</td>\n",
       "      <td>2.75</td>\n",
       "      <td>1.50</td>\n",
       "      <td>5650.20</td>\n",
       "      <td>20344622.14</td>\n",
       "      <td>5750.84</td>\n",
       "      <td>20127679.27</td>\n",
       "      <td>3459.68</td>\n",
       "      <td>16021825.60</td>\n",
       "      <td>4362.79</td>\n",
       "      <td>16264378.33</td>\n",
       "    </tr>\n",
       "    <tr>\n",
       "      <th>5604</th>\n",
       "      <td>Rua Barão de Tramandaí, 0</td>\n",
       "      <td>Vila Alpina</td>\n",
       "      <td>São Paulo</td>\n",
       "      <td>122</td>\n",
       "      <td>3</td>\n",
       "      <td>2</td>\n",
       "      <td>2</td>\n",
       "      <td>270000.0</td>\n",
       "      <td>0.270</td>\n",
       "      <td>2213.114754</td>\n",
       "      <td>...</td>\n",
       "      <td>2.97</td>\n",
       "      <td>1.75</td>\n",
       "      <td>1244.10</td>\n",
       "      <td>1353001.23</td>\n",
       "      <td>1364.89</td>\n",
       "      <td>1319336.96</td>\n",
       "      <td>895.93</td>\n",
       "      <td>988708.13</td>\n",
       "      <td>1226.86</td>\n",
       "      <td>947807.31</td>\n",
       "    </tr>\n",
       "  </tbody>\n",
       "</table>\n",
       "<p>5308 rows × 25 columns</p>\n",
       "</div>"
      ],
      "text/plain": [
       "                                 Rua              Bairro     Cidade  Metragem  \\\n",
       "0              Avenida Itacira, 255    Planalto Paulista  São Paulo      1000   \n",
       "1     Rua Aurelia Perez Alvarez, 42   Jardim dos Estados  São Paulo       496   \n",
       "2                    Rua Alba Valdez     Jardim Reimberg  São Paulo       125   \n",
       "3           Rua Tobias Barreto, 195                Mooca  São Paulo       100   \n",
       "4                    Rua Graham Bell         Santo Amaro  São Paulo       440   \n",
       "...                              ...                 ...        ...       ...   \n",
       "5599              Rua Pedro Teixeira        Vila Olímpia  São Paulo       157   \n",
       "5600                   Avenida Odila   Planalto Paulista  São Paulo       267   \n",
       "5601                      Rua Tapuçu          Vila Sofia  São Paulo        95   \n",
       "5603               Rua Estero Belaco       Vila da Saúde  São Paulo       205   \n",
       "5604      Rua Barão de Tramandaí, 0          Vila Alpina  São Paulo       122   \n",
       "\n",
       "      Quartos  Banheiros  Vagas  Valor_anuncio  Valor_mm     Valor_m2  ...  \\\n",
       "0           4          8      6      7000000.0     7.000  7000.000000  ...   \n",
       "1           4          4      4      3700000.0     3.700  7459.677419  ...   \n",
       "2           4          3      2       380000.0     0.380  3040.000000  ...   \n",
       "3           3          2      2       540000.0     0.540  5400.000000  ...   \n",
       "4           4          4      6      1980000.0     1.980  4500.000000  ...   \n",
       "...       ...        ...    ...            ...       ...          ...  ...   \n",
       "5599        3          2      2       960000.0     0.960  6114.649682  ...   \n",
       "5600        3          6      4      1500000.0     1.500  5617.977528  ...   \n",
       "5601        2          2      2       665000.0     0.665  7000.000000  ...   \n",
       "5603        3          3      6      1050000.0     1.050  5121.951220  ...   \n",
       "5604        3          2      2       270000.0     0.270  2213.114754  ...   \n",
       "\n",
       "      V003  V004     V005         V006     V007         V008     V009  \\\n",
       "0     2.66  2.04  3158.96  22210644.93  5570.65  25770816.97  2096.19   \n",
       "1     3.13  1.96  7600.44  36778930.17  7890.53  35886906.64  4149.00   \n",
       "2     3.47  3.06   805.13    769188.78  1011.75    757433.42   518.77   \n",
       "3     3.00  1.99  2338.05   7826370.15  2447.89   7925839.76  1543.29   \n",
       "4     3.51  2.31  1026.36    272168.67  1143.96    167733.64   735.67   \n",
       "...    ...   ...      ...          ...      ...          ...      ...   \n",
       "5599  2.17  1.27  5054.58  33245189.73  5231.93  33485189.78  3649.06   \n",
       "5600  2.81  1.60  4249.33  24499871.44  5180.14  25047413.33  2618.76   \n",
       "5601  2.99  1.81  2425.09   6878872.25  2543.80   6913867.79  1561.58   \n",
       "5603  2.75  1.50  5650.20  20344622.14  5750.84  20127679.27  3459.68   \n",
       "5604  2.97  1.75  1244.10   1353001.23  1364.89   1319336.96   895.93   \n",
       "\n",
       "             V010     V011         V012  \n",
       "0     13029851.56  3930.35  17241576.74  \n",
       "1     26760682.90  6063.92  27502674.90  \n",
       "2       426672.78   858.51    414378.88  \n",
       "3      4646566.16  1909.04   5050712.69  \n",
       "4       367088.08  1086.94    159622.46  \n",
       "...           ...      ...          ...  \n",
       "5599  26562232.53  4551.66  29032823.35  \n",
       "5600  17705032.31  3977.93  21495997.85  \n",
       "5601   4261814.01  2062.09   4596759.57  \n",
       "5603  16021825.60  4362.79  16264378.33  \n",
       "5604    988708.13  1226.86    947807.31  \n",
       "\n",
       "[5308 rows x 25 columns]"
      ]
     },
     "execution_count": 5,
     "metadata": {},
     "output_type": "execute_result"
    }
   ],
   "source": [
    "dados_vendas_censo = dados_vendas_censo[['Rua', 'Bairro', 'Cidade', 'Metragem', 'Quartos', 'Banheiros', 'Vagas',\n",
    "       'Valor_anuncio', 'Valor_mm', 'Valor_m2', 'latitude', 'longitude', 'Situacao_setor', 'V001',\n",
    "       'V002', 'V003', 'V004', 'V005', 'V006', 'V007', 'V008', 'V009', 'V010',\n",
    "       'V011', 'V012']].dropna()\n",
    "dados_vendas_censo"
   ]
  },
  {
   "cell_type": "markdown",
   "metadata": {},
   "source": [
    "Formatar a forma que o pandas irá mostra os valores"
   ]
  },
  {
   "cell_type": "code",
   "execution_count": 6,
   "metadata": {
    "colab": {
     "base_uri": "https://localhost:8080/",
     "height": 765
    },
    "id": "hXoTM3R9-Njv",
    "outputId": "767e0e7c-0f99-46c4-8a1b-2644910b72b4"
   },
   "outputs": [],
   "source": [
    "pd.set_option(\"display.precision\", 2)\n",
    "pd.set_option('display.float_format', lambda x: '%.2f' % x)\n",
    "sns.set()"
   ]
  },
  {
   "cell_type": "markdown",
   "metadata": {},
   "source": [
    "Criando um boxplot com os valores dos anuncios"
   ]
  },
  {
   "cell_type": "code",
   "execution_count": 7,
   "metadata": {
    "colab": {
     "base_uri": "https://localhost:8080/",
     "height": 477
    },
    "id": "fOB2EbMnxlAs",
    "outputId": "d9ee89e8-968c-4704-bf1b-268c50a52da6"
   },
   "outputs": [
    {
     "data": {
      "image/png": "[encoded data removed]",
      "text/plain": [
       "<Figure size 720x576 with 1 Axes>"
      ]
     },
     "metadata": {
      "needs_background": "light"
     },
     "output_type": "display_data"
    }
   ],
   "source": [
    "plt.figure(figsize=(10, 8))\n",
    "ax = sns.boxplot(data = dados_vendas_censo, y=\"Valor_anuncio\")\n",
    "plt.show()"
   ]
  },
  {
   "cell_type": "markdown",
   "metadata": {},
   "source": [
    "Filtrando os dados com valor de anuncio que são maiores de 30 milhões e menores que 100 mil"
   ]
  },
  {
   "cell_type": "code",
   "execution_count": 8,
   "metadata": {
    "colab": {
     "base_uri": "https://localhost:8080/",
     "height": 438
    },
    "id": "n1dppxM52kiW",
    "outputId": "3380dd63-3cdd-45e8-c99c-8162bf90a5f9"
   },
   "outputs": [
    {
     "data": {
      "text/html": [
       "<div>\n",
       "<style scoped>\n",
       "    .dataframe tbody tr th:only-of-type {\n",
       "        vertical-align: middle;\n",
       "    }\n",
       "\n",
       "    .dataframe tbody tr th {\n",
       "        vertical-align: top;\n",
       "    }\n",
       "\n",
       "    .dataframe thead th {\n",
       "        text-align: right;\n",
       "    }\n",
       "</style>\n",
       "<table border=\"1\" class=\"dataframe\">\n",
       "  <thead>\n",
       "    <tr style=\"text-align: right;\">\n",
       "      <th></th>\n",
       "      <th>Rua</th>\n",
       "      <th>Bairro</th>\n",
       "      <th>Cidade</th>\n",
       "      <th>Metragem</th>\n",
       "      <th>Quartos</th>\n",
       "      <th>Banheiros</th>\n",
       "      <th>Vagas</th>\n",
       "      <th>Valor_anuncio</th>\n",
       "      <th>Valor_mm</th>\n",
       "      <th>Valor_m2</th>\n",
       "      <th>...</th>\n",
       "      <th>V003</th>\n",
       "      <th>V004</th>\n",
       "      <th>V005</th>\n",
       "      <th>V006</th>\n",
       "      <th>V007</th>\n",
       "      <th>V008</th>\n",
       "      <th>V009</th>\n",
       "      <th>V010</th>\n",
       "      <th>V011</th>\n",
       "      <th>V012</th>\n",
       "    </tr>\n",
       "  </thead>\n",
       "  <tbody>\n",
       "    <tr>\n",
       "      <th>54</th>\n",
       "      <td>Rua Inglaterra</td>\n",
       "      <td>Jardim Europa</td>\n",
       "      <td>São Paulo</td>\n",
       "      <td>200</td>\n",
       "      <td>3</td>\n",
       "      <td>3</td>\n",
       "      <td>2</td>\n",
       "      <td>13000.00</td>\n",
       "      <td>0.01</td>\n",
       "      <td>65.00</td>\n",
       "      <td>...</td>\n",
       "      <td>3.13</td>\n",
       "      <td>2.87</td>\n",
       "      <td>21545.71</td>\n",
       "      <td>1577883376.43</td>\n",
       "      <td>26081.65</td>\n",
       "      <td>1794039881.36</td>\n",
       "      <td>11050.67</td>\n",
       "      <td>882338714.47</td>\n",
       "      <td>15470.93</td>\n",
       "      <td>1168079134.43</td>\n",
       "    </tr>\n",
       "    <tr>\n",
       "      <th>89</th>\n",
       "      <td>Rua Inglaterra</td>\n",
       "      <td>Jardim Europa</td>\n",
       "      <td>São Paulo</td>\n",
       "      <td>756</td>\n",
       "      <td>5</td>\n",
       "      <td>4</td>\n",
       "      <td>10</td>\n",
       "      <td>37000000.00</td>\n",
       "      <td>37.00</td>\n",
       "      <td>48941.80</td>\n",
       "      <td>...</td>\n",
       "      <td>3.13</td>\n",
       "      <td>2.87</td>\n",
       "      <td>21545.71</td>\n",
       "      <td>1577883376.43</td>\n",
       "      <td>26081.65</td>\n",
       "      <td>1794039881.36</td>\n",
       "      <td>11050.67</td>\n",
       "      <td>882338714.47</td>\n",
       "      <td>15470.93</td>\n",
       "      <td>1168079134.43</td>\n",
       "    </tr>\n",
       "    <tr>\n",
       "      <th>1032</th>\n",
       "      <td>Praça Nicolau Scarpa</td>\n",
       "      <td>Jardim América</td>\n",
       "      <td>São Paulo</td>\n",
       "      <td>1200</td>\n",
       "      <td>4</td>\n",
       "      <td>4</td>\n",
       "      <td>25</td>\n",
       "      <td>65000000.00</td>\n",
       "      <td>65.00</td>\n",
       "      <td>54166.67</td>\n",
       "      <td>...</td>\n",
       "      <td>3.57</td>\n",
       "      <td>3.01</td>\n",
       "      <td>13131.61</td>\n",
       "      <td>508165993.72</td>\n",
       "      <td>14507.30</td>\n",
       "      <td>541764826.89</td>\n",
       "      <td>7934.91</td>\n",
       "      <td>364776324.15</td>\n",
       "      <td>10168.24</td>\n",
       "      <td>445001716.57</td>\n",
       "    </tr>\n",
       "    <tr>\n",
       "      <th>3521</th>\n",
       "      <td>Rua Estados Unidos</td>\n",
       "      <td>Jardim América</td>\n",
       "      <td>São Paulo</td>\n",
       "      <td>1816</td>\n",
       "      <td>4</td>\n",
       "      <td>10</td>\n",
       "      <td>20</td>\n",
       "      <td>55000000.00</td>\n",
       "      <td>55.00</td>\n",
       "      <td>30286.34</td>\n",
       "      <td>...</td>\n",
       "      <td>3.57</td>\n",
       "      <td>3.01</td>\n",
       "      <td>13131.61</td>\n",
       "      <td>508165993.72</td>\n",
       "      <td>14507.30</td>\n",
       "      <td>541764826.89</td>\n",
       "      <td>7934.91</td>\n",
       "      <td>364776324.15</td>\n",
       "      <td>10168.24</td>\n",
       "      <td>445001716.57</td>\n",
       "    </tr>\n",
       "    <tr>\n",
       "      <th>3896</th>\n",
       "      <td>Rua Estados Unidos</td>\n",
       "      <td>Jardim América</td>\n",
       "      <td>São Paulo</td>\n",
       "      <td>1200</td>\n",
       "      <td>4</td>\n",
       "      <td>6</td>\n",
       "      <td>24</td>\n",
       "      <td>65000000.00</td>\n",
       "      <td>65.00</td>\n",
       "      <td>54166.67</td>\n",
       "      <td>...</td>\n",
       "      <td>3.57</td>\n",
       "      <td>3.01</td>\n",
       "      <td>13131.61</td>\n",
       "      <td>508165993.72</td>\n",
       "      <td>14507.30</td>\n",
       "      <td>541764826.89</td>\n",
       "      <td>7934.91</td>\n",
       "      <td>364776324.15</td>\n",
       "      <td>10168.24</td>\n",
       "      <td>445001716.57</td>\n",
       "    </tr>\n",
       "  </tbody>\n",
       "</table>\n",
       "<p>5 rows × 25 columns</p>\n",
       "</div>"
      ],
      "text/plain": [
       "                       Rua          Bairro     Cidade  Metragem  Quartos  \\\n",
       "54          Rua Inglaterra   Jardim Europa  São Paulo       200        3   \n",
       "89          Rua Inglaterra   Jardim Europa  São Paulo       756        5   \n",
       "1032  Praça Nicolau Scarpa  Jardim América  São Paulo      1200        4   \n",
       "3521    Rua Estados Unidos  Jardim América  São Paulo      1816        4   \n",
       "3896    Rua Estados Unidos  Jardim América  São Paulo      1200        4   \n",
       "\n",
       "      Banheiros  Vagas  Valor_anuncio  Valor_mm  Valor_m2  ...  V003  V004  \\\n",
       "54            3      2       13000.00      0.01     65.00  ...  3.13  2.87   \n",
       "89            4     10    37000000.00     37.00  48941.80  ...  3.13  2.87   \n",
       "1032          4     25    65000000.00     65.00  54166.67  ...  3.57  3.01   \n",
       "3521         10     20    55000000.00     55.00  30286.34  ...  3.57  3.01   \n",
       "3896          6     24    65000000.00     65.00  54166.67  ...  3.57  3.01   \n",
       "\n",
       "         V005          V006     V007          V008     V009         V010  \\\n",
       "54   21545.71 1577883376.43 26081.65 1794039881.36 11050.67 882338714.47   \n",
       "89   21545.71 1577883376.43 26081.65 1794039881.36 11050.67 882338714.47   \n",
       "1032 13131.61  508165993.72 14507.30  541764826.89  7934.91 364776324.15   \n",
       "3521 13131.61  508165993.72 14507.30  541764826.89  7934.91 364776324.15   \n",
       "3896 13131.61  508165993.72 14507.30  541764826.89  7934.91 364776324.15   \n",
       "\n",
       "         V011          V012  \n",
       "54   15470.93 1168079134.43  \n",
       "89   15470.93 1168079134.43  \n",
       "1032 10168.24  445001716.57  \n",
       "3521 10168.24  445001716.57  \n",
       "3896 10168.24  445001716.57  \n",
       "\n",
       "[5 rows x 25 columns]"
      ]
     },
     "execution_count": 8,
     "metadata": {},
     "output_type": "execute_result"
    }
   ],
   "source": [
    "dados_vendas_censo.query(\"Valor_anuncio > 30000000 | Valor_anuncio < 100000\")"
   ]
  },
  {
   "cell_type": "markdown",
   "metadata": {},
   "source": [
    "Boxplot com os dados filtrados"
   ]
  },
  {
   "cell_type": "code",
   "execution_count": 9,
   "metadata": {
    "colab": {
     "base_uri": "https://localhost:8080/",
     "height": 477
    },
    "id": "DTwoBAPM2v8N",
    "outputId": "ba48a767-6f45-4bb2-da73-e5f1593f19d4"
   },
   "outputs": [
    {
     "data": {
      "image/png": "[encoded data removed]",
      "text/plain": [
       "<Figure size 720x576 with 1 Axes>"
      ]
     },
     "metadata": {
      "needs_background": "light"
     },
     "output_type": "display_data"
    }
   ],
   "source": [
    "dados_vendas_censo.drop(dados_vendas_censo.query(\"Valor_anuncio > 30000000 | Valor_anuncio < 100000\").index, inplace = True)\n",
    "plt.figure(figsize=(10, 8))\n",
    "ax = sns.boxplot(data = dados_vendas_censo, y=\"Valor_anuncio\")\n",
    "plt.show()"
   ]
  },
  {
   "cell_type": "code",
   "execution_count": 10,
   "metadata": {
    "colab": {
     "base_uri": "https://localhost:8080/",
     "height": 630
    },
    "id": "XCx_egYZ5ehM",
    "outputId": "8ee332d6-8795-4a08-fadc-eab914e6cacb"
   },
   "outputs": [
    {
     "data": {
      "text/plain": [
       "<AxesSubplot:xlabel='Valor_anuncio', ylabel='Valor_m2'>"
      ]
     },
     "execution_count": 10,
     "metadata": {},
     "output_type": "execute_result"
    },
    {
     "data": {
      "image/png": "[encoded data removed]",
      "text/plain": [
       "<Figure size 720x720 with 1 Axes>"
      ]
     },
     "metadata": {
      "needs_background": "light"
     },
     "output_type": "display_data"
    }
   ],
   "source": [
    "plt.figure(figsize=(10, 10))\n",
    "sns.scatterplot(data = dados_vendas_censo, x=\"Valor_anuncio\", y=\"Valor_m2\")"
   ]
  },
  {
   "cell_type": "markdown",
   "metadata": {},
   "source": [
    "Calculando a correlação entre as variaveis"
   ]
  },
  {
   "cell_type": "code",
   "execution_count": 11,
   "metadata": {
    "colab": {
     "base_uri": "https://localhost:8080/",
     "height": 833
    },
    "id": "vDuH93m5xjXi",
    "outputId": "9205ab51-a2d6-42f2-d875-97722f585334"
   },
   "outputs": [
    {
     "data": {
      "text/html": [
       "<div>\n",
       "<style scoped>\n",
       "    .dataframe tbody tr th:only-of-type {\n",
       "        vertical-align: middle;\n",
       "    }\n",
       "\n",
       "    .dataframe tbody tr th {\n",
       "        vertical-align: top;\n",
       "    }\n",
       "\n",
       "    .dataframe thead th {\n",
       "        text-align: right;\n",
       "    }\n",
       "</style>\n",
       "<table border=\"1\" class=\"dataframe\">\n",
       "  <thead>\n",
       "    <tr style=\"text-align: right;\">\n",
       "      <th></th>\n",
       "      <th>Metragem</th>\n",
       "      <th>Quartos</th>\n",
       "      <th>Banheiros</th>\n",
       "      <th>Vagas</th>\n",
       "      <th>Valor_anuncio</th>\n",
       "      <th>Valor_mm</th>\n",
       "      <th>Valor_m2</th>\n",
       "      <th>latitude</th>\n",
       "      <th>longitude</th>\n",
       "      <th>Situacao_setor</th>\n",
       "      <th>...</th>\n",
       "      <th>V003</th>\n",
       "      <th>V004</th>\n",
       "      <th>V005</th>\n",
       "      <th>V006</th>\n",
       "      <th>V007</th>\n",
       "      <th>V008</th>\n",
       "      <th>V009</th>\n",
       "      <th>V010</th>\n",
       "      <th>V011</th>\n",
       "      <th>V012</th>\n",
       "    </tr>\n",
       "  </thead>\n",
       "  <tbody>\n",
       "    <tr>\n",
       "      <th>Metragem</th>\n",
       "      <td>1.00</td>\n",
       "      <td>0.23</td>\n",
       "      <td>0.23</td>\n",
       "      <td>0.27</td>\n",
       "      <td>0.30</td>\n",
       "      <td>0.30</td>\n",
       "      <td>0.06</td>\n",
       "      <td>-0.09</td>\n",
       "      <td>-0.13</td>\n",
       "      <td>0.48</td>\n",
       "      <td>...</td>\n",
       "      <td>0.13</td>\n",
       "      <td>0.05</td>\n",
       "      <td>0.22</td>\n",
       "      <td>0.07</td>\n",
       "      <td>0.23</td>\n",
       "      <td>0.05</td>\n",
       "      <td>0.20</td>\n",
       "      <td>0.07</td>\n",
       "      <td>0.21</td>\n",
       "      <td>0.05</td>\n",
       "    </tr>\n",
       "    <tr>\n",
       "      <th>Quartos</th>\n",
       "      <td>0.23</td>\n",
       "      <td>1.00</td>\n",
       "      <td>0.55</td>\n",
       "      <td>0.42</td>\n",
       "      <td>0.37</td>\n",
       "      <td>0.37</td>\n",
       "      <td>0.12</td>\n",
       "      <td>-0.01</td>\n",
       "      <td>-0.19</td>\n",
       "      <td>-0.01</td>\n",
       "      <td>...</td>\n",
       "      <td>0.16</td>\n",
       "      <td>0.07</td>\n",
       "      <td>0.32</td>\n",
       "      <td>0.12</td>\n",
       "      <td>0.33</td>\n",
       "      <td>0.11</td>\n",
       "      <td>0.31</td>\n",
       "      <td>0.13</td>\n",
       "      <td>0.32</td>\n",
       "      <td>0.11</td>\n",
       "    </tr>\n",
       "    <tr>\n",
       "      <th>Banheiros</th>\n",
       "      <td>0.23</td>\n",
       "      <td>0.55</td>\n",
       "      <td>1.00</td>\n",
       "      <td>0.46</td>\n",
       "      <td>0.47</td>\n",
       "      <td>0.47</td>\n",
       "      <td>0.22</td>\n",
       "      <td>-0.03</td>\n",
       "      <td>-0.25</td>\n",
       "      <td>-0.03</td>\n",
       "      <td>...</td>\n",
       "      <td>0.21</td>\n",
       "      <td>0.07</td>\n",
       "      <td>0.41</td>\n",
       "      <td>0.11</td>\n",
       "      <td>0.41</td>\n",
       "      <td>0.08</td>\n",
       "      <td>0.39</td>\n",
       "      <td>0.11</td>\n",
       "      <td>0.40</td>\n",
       "      <td>0.08</td>\n",
       "    </tr>\n",
       "    <tr>\n",
       "      <th>Vagas</th>\n",
       "      <td>0.27</td>\n",
       "      <td>0.42</td>\n",
       "      <td>0.46</td>\n",
       "      <td>1.00</td>\n",
       "      <td>0.48</td>\n",
       "      <td>0.48</td>\n",
       "      <td>0.15</td>\n",
       "      <td>-0.04</td>\n",
       "      <td>-0.19</td>\n",
       "      <td>-0.01</td>\n",
       "      <td>...</td>\n",
       "      <td>0.24</td>\n",
       "      <td>0.09</td>\n",
       "      <td>0.34</td>\n",
       "      <td>0.11</td>\n",
       "      <td>0.34</td>\n",
       "      <td>0.08</td>\n",
       "      <td>0.32</td>\n",
       "      <td>0.12</td>\n",
       "      <td>0.33</td>\n",
       "      <td>0.09</td>\n",
       "    </tr>\n",
       "    <tr>\n",
       "      <th>Valor_anuncio</th>\n",
       "      <td>0.30</td>\n",
       "      <td>0.37</td>\n",
       "      <td>0.47</td>\n",
       "      <td>0.48</td>\n",
       "      <td>1.00</td>\n",
       "      <td>1.00</td>\n",
       "      <td>0.70</td>\n",
       "      <td>0.02</td>\n",
       "      <td>-0.21</td>\n",
       "      <td>-0.00</td>\n",
       "      <td>...</td>\n",
       "      <td>0.13</td>\n",
       "      <td>0.08</td>\n",
       "      <td>0.45</td>\n",
       "      <td>0.11</td>\n",
       "      <td>0.45</td>\n",
       "      <td>0.07</td>\n",
       "      <td>0.47</td>\n",
       "      <td>0.13</td>\n",
       "      <td>0.45</td>\n",
       "      <td>0.08</td>\n",
       "    </tr>\n",
       "    <tr>\n",
       "      <th>Valor_mm</th>\n",
       "      <td>0.30</td>\n",
       "      <td>0.37</td>\n",
       "      <td>0.47</td>\n",
       "      <td>0.48</td>\n",
       "      <td>1.00</td>\n",
       "      <td>1.00</td>\n",
       "      <td>0.70</td>\n",
       "      <td>0.02</td>\n",
       "      <td>-0.21</td>\n",
       "      <td>-0.00</td>\n",
       "      <td>...</td>\n",
       "      <td>0.13</td>\n",
       "      <td>0.08</td>\n",
       "      <td>0.45</td>\n",
       "      <td>0.11</td>\n",
       "      <td>0.45</td>\n",
       "      <td>0.07</td>\n",
       "      <td>0.47</td>\n",
       "      <td>0.13</td>\n",
       "      <td>0.45</td>\n",
       "      <td>0.08</td>\n",
       "    </tr>\n",
       "    <tr>\n",
       "      <th>Valor_m2</th>\n",
       "      <td>0.06</td>\n",
       "      <td>0.12</td>\n",
       "      <td>0.22</td>\n",
       "      <td>0.15</td>\n",
       "      <td>0.70</td>\n",
       "      <td>0.70</td>\n",
       "      <td>1.00</td>\n",
       "      <td>0.05</td>\n",
       "      <td>-0.18</td>\n",
       "      <td>-0.03</td>\n",
       "      <td>...</td>\n",
       "      <td>-0.13</td>\n",
       "      <td>0.01</td>\n",
       "      <td>0.29</td>\n",
       "      <td>0.04</td>\n",
       "      <td>0.28</td>\n",
       "      <td>0.02</td>\n",
       "      <td>0.37</td>\n",
       "      <td>0.05</td>\n",
       "      <td>0.32</td>\n",
       "      <td>0.02</td>\n",
       "    </tr>\n",
       "    <tr>\n",
       "      <th>latitude</th>\n",
       "      <td>-0.09</td>\n",
       "      <td>-0.01</td>\n",
       "      <td>-0.03</td>\n",
       "      <td>-0.04</td>\n",
       "      <td>0.02</td>\n",
       "      <td>0.02</td>\n",
       "      <td>0.05</td>\n",
       "      <td>1.00</td>\n",
       "      <td>0.15</td>\n",
       "      <td>-0.03</td>\n",
       "      <td>...</td>\n",
       "      <td>-0.05</td>\n",
       "      <td>0.03</td>\n",
       "      <td>-0.05</td>\n",
       "      <td>-0.09</td>\n",
       "      <td>-0.07</td>\n",
       "      <td>-0.07</td>\n",
       "      <td>-0.04</td>\n",
       "      <td>-0.07</td>\n",
       "      <td>-0.07</td>\n",
       "      <td>-0.06</td>\n",
       "    </tr>\n",
       "    <tr>\n",
       "      <th>longitude</th>\n",
       "      <td>-0.13</td>\n",
       "      <td>-0.19</td>\n",
       "      <td>-0.25</td>\n",
       "      <td>-0.19</td>\n",
       "      <td>-0.21</td>\n",
       "      <td>-0.21</td>\n",
       "      <td>-0.18</td>\n",
       "      <td>0.15</td>\n",
       "      <td>1.00</td>\n",
       "      <td>-0.01</td>\n",
       "      <td>...</td>\n",
       "      <td>-0.05</td>\n",
       "      <td>0.02</td>\n",
       "      <td>-0.36</td>\n",
       "      <td>-0.10</td>\n",
       "      <td>-0.36</td>\n",
       "      <td>-0.07</td>\n",
       "      <td>-0.38</td>\n",
       "      <td>-0.10</td>\n",
       "      <td>-0.37</td>\n",
       "      <td>-0.07</td>\n",
       "    </tr>\n",
       "    <tr>\n",
       "      <th>Situacao_setor</th>\n",
       "      <td>0.48</td>\n",
       "      <td>-0.01</td>\n",
       "      <td>-0.03</td>\n",
       "      <td>-0.01</td>\n",
       "      <td>-0.00</td>\n",
       "      <td>-0.00</td>\n",
       "      <td>-0.03</td>\n",
       "      <td>-0.03</td>\n",
       "      <td>-0.01</td>\n",
       "      <td>1.00</td>\n",
       "      <td>...</td>\n",
       "      <td>0.03</td>\n",
       "      <td>0.00</td>\n",
       "      <td>-0.03</td>\n",
       "      <td>-0.01</td>\n",
       "      <td>-0.03</td>\n",
       "      <td>-0.01</td>\n",
       "      <td>-0.04</td>\n",
       "      <td>-0.01</td>\n",
       "      <td>-0.03</td>\n",
       "      <td>-0.00</td>\n",
       "    </tr>\n",
       "    <tr>\n",
       "      <th>V001</th>\n",
       "      <td>-0.13</td>\n",
       "      <td>-0.18</td>\n",
       "      <td>-0.22</td>\n",
       "      <td>-0.21</td>\n",
       "      <td>-0.22</td>\n",
       "      <td>-0.22</td>\n",
       "      <td>-0.11</td>\n",
       "      <td>-0.00</td>\n",
       "      <td>0.31</td>\n",
       "      <td>0.02</td>\n",
       "      <td>...</td>\n",
       "      <td>-0.22</td>\n",
       "      <td>-0.12</td>\n",
       "      <td>-0.38</td>\n",
       "      <td>-0.10</td>\n",
       "      <td>-0.39</td>\n",
       "      <td>-0.10</td>\n",
       "      <td>-0.36</td>\n",
       "      <td>-0.13</td>\n",
       "      <td>-0.37</td>\n",
       "      <td>-0.11</td>\n",
       "    </tr>\n",
       "    <tr>\n",
       "      <th>V002</th>\n",
       "      <td>-0.10</td>\n",
       "      <td>-0.15</td>\n",
       "      <td>-0.17</td>\n",
       "      <td>-0.15</td>\n",
       "      <td>-0.19</td>\n",
       "      <td>-0.19</td>\n",
       "      <td>-0.15</td>\n",
       "      <td>-0.02</td>\n",
       "      <td>0.30</td>\n",
       "      <td>0.03</td>\n",
       "      <td>...</td>\n",
       "      <td>0.07</td>\n",
       "      <td>0.00</td>\n",
       "      <td>-0.33</td>\n",
       "      <td>-0.09</td>\n",
       "      <td>-0.34</td>\n",
       "      <td>-0.09</td>\n",
       "      <td>-0.35</td>\n",
       "      <td>-0.12</td>\n",
       "      <td>-0.35</td>\n",
       "      <td>-0.10</td>\n",
       "    </tr>\n",
       "    <tr>\n",
       "      <th>V003</th>\n",
       "      <td>0.13</td>\n",
       "      <td>0.16</td>\n",
       "      <td>0.21</td>\n",
       "      <td>0.24</td>\n",
       "      <td>0.13</td>\n",
       "      <td>0.13</td>\n",
       "      <td>-0.13</td>\n",
       "      <td>-0.05</td>\n",
       "      <td>-0.05</td>\n",
       "      <td>0.03</td>\n",
       "      <td>...</td>\n",
       "      <td>1.00</td>\n",
       "      <td>0.41</td>\n",
       "      <td>0.28</td>\n",
       "      <td>0.08</td>\n",
       "      <td>0.28</td>\n",
       "      <td>0.06</td>\n",
       "      <td>0.13</td>\n",
       "      <td>0.10</td>\n",
       "      <td>0.19</td>\n",
       "      <td>0.07</td>\n",
       "    </tr>\n",
       "    <tr>\n",
       "      <th>V004</th>\n",
       "      <td>0.05</td>\n",
       "      <td>0.07</td>\n",
       "      <td>0.07</td>\n",
       "      <td>0.09</td>\n",
       "      <td>0.08</td>\n",
       "      <td>0.08</td>\n",
       "      <td>0.01</td>\n",
       "      <td>0.03</td>\n",
       "      <td>0.02</td>\n",
       "      <td>0.00</td>\n",
       "      <td>...</td>\n",
       "      <td>0.41</td>\n",
       "      <td>1.00</td>\n",
       "      <td>0.07</td>\n",
       "      <td>0.02</td>\n",
       "      <td>0.06</td>\n",
       "      <td>0.01</td>\n",
       "      <td>-0.01</td>\n",
       "      <td>0.02</td>\n",
       "      <td>0.01</td>\n",
       "      <td>0.01</td>\n",
       "    </tr>\n",
       "    <tr>\n",
       "      <th>V005</th>\n",
       "      <td>0.22</td>\n",
       "      <td>0.32</td>\n",
       "      <td>0.41</td>\n",
       "      <td>0.34</td>\n",
       "      <td>0.45</td>\n",
       "      <td>0.45</td>\n",
       "      <td>0.29</td>\n",
       "      <td>-0.05</td>\n",
       "      <td>-0.36</td>\n",
       "      <td>-0.03</td>\n",
       "      <td>...</td>\n",
       "      <td>0.28</td>\n",
       "      <td>0.07</td>\n",
       "      <td>1.00</td>\n",
       "      <td>0.42</td>\n",
       "      <td>0.95</td>\n",
       "      <td>0.31</td>\n",
       "      <td>0.95</td>\n",
       "      <td>0.39</td>\n",
       "      <td>0.90</td>\n",
       "      <td>0.27</td>\n",
       "    </tr>\n",
       "    <tr>\n",
       "      <th>V006</th>\n",
       "      <td>0.07</td>\n",
       "      <td>0.12</td>\n",
       "      <td>0.11</td>\n",
       "      <td>0.11</td>\n",
       "      <td>0.11</td>\n",
       "      <td>0.11</td>\n",
       "      <td>0.04</td>\n",
       "      <td>-0.09</td>\n",
       "      <td>-0.10</td>\n",
       "      <td>-0.01</td>\n",
       "      <td>...</td>\n",
       "      <td>0.08</td>\n",
       "      <td>0.02</td>\n",
       "      <td>0.42</td>\n",
       "      <td>1.00</td>\n",
       "      <td>0.56</td>\n",
       "      <td>0.93</td>\n",
       "      <td>0.42</td>\n",
       "      <td>0.89</td>\n",
       "      <td>0.58</td>\n",
       "      <td>0.83</td>\n",
       "    </tr>\n",
       "    <tr>\n",
       "      <th>V007</th>\n",
       "      <td>0.23</td>\n",
       "      <td>0.33</td>\n",
       "      <td>0.41</td>\n",
       "      <td>0.34</td>\n",
       "      <td>0.45</td>\n",
       "      <td>0.45</td>\n",
       "      <td>0.28</td>\n",
       "      <td>-0.07</td>\n",
       "      <td>-0.36</td>\n",
       "      <td>-0.03</td>\n",
       "      <td>...</td>\n",
       "      <td>0.28</td>\n",
       "      <td>0.06</td>\n",
       "      <td>0.95</td>\n",
       "      <td>0.56</td>\n",
       "      <td>1.00</td>\n",
       "      <td>0.50</td>\n",
       "      <td>0.92</td>\n",
       "      <td>0.56</td>\n",
       "      <td>0.96</td>\n",
       "      <td>0.48</td>\n",
       "    </tr>\n",
       "    <tr>\n",
       "      <th>V008</th>\n",
       "      <td>0.05</td>\n",
       "      <td>0.11</td>\n",
       "      <td>0.08</td>\n",
       "      <td>0.08</td>\n",
       "      <td>0.07</td>\n",
       "      <td>0.07</td>\n",
       "      <td>0.02</td>\n",
       "      <td>-0.07</td>\n",
       "      <td>-0.07</td>\n",
       "      <td>-0.01</td>\n",
       "      <td>...</td>\n",
       "      <td>0.06</td>\n",
       "      <td>0.01</td>\n",
       "      <td>0.31</td>\n",
       "      <td>0.93</td>\n",
       "      <td>0.50</td>\n",
       "      <td>1.00</td>\n",
       "      <td>0.33</td>\n",
       "      <td>0.91</td>\n",
       "      <td>0.56</td>\n",
       "      <td>0.95</td>\n",
       "    </tr>\n",
       "    <tr>\n",
       "      <th>V009</th>\n",
       "      <td>0.20</td>\n",
       "      <td>0.31</td>\n",
       "      <td>0.39</td>\n",
       "      <td>0.32</td>\n",
       "      <td>0.47</td>\n",
       "      <td>0.47</td>\n",
       "      <td>0.37</td>\n",
       "      <td>-0.04</td>\n",
       "      <td>-0.38</td>\n",
       "      <td>-0.04</td>\n",
       "      <td>...</td>\n",
       "      <td>0.13</td>\n",
       "      <td>-0.01</td>\n",
       "      <td>0.95</td>\n",
       "      <td>0.42</td>\n",
       "      <td>0.92</td>\n",
       "      <td>0.33</td>\n",
       "      <td>1.00</td>\n",
       "      <td>0.45</td>\n",
       "      <td>0.94</td>\n",
       "      <td>0.34</td>\n",
       "    </tr>\n",
       "    <tr>\n",
       "      <th>V010</th>\n",
       "      <td>0.07</td>\n",
       "      <td>0.13</td>\n",
       "      <td>0.11</td>\n",
       "      <td>0.12</td>\n",
       "      <td>0.13</td>\n",
       "      <td>0.13</td>\n",
       "      <td>0.05</td>\n",
       "      <td>-0.07</td>\n",
       "      <td>-0.10</td>\n",
       "      <td>-0.01</td>\n",
       "      <td>...</td>\n",
       "      <td>0.10</td>\n",
       "      <td>0.02</td>\n",
       "      <td>0.39</td>\n",
       "      <td>0.89</td>\n",
       "      <td>0.56</td>\n",
       "      <td>0.91</td>\n",
       "      <td>0.45</td>\n",
       "      <td>1.00</td>\n",
       "      <td>0.64</td>\n",
       "      <td>0.95</td>\n",
       "    </tr>\n",
       "    <tr>\n",
       "      <th>V011</th>\n",
       "      <td>0.21</td>\n",
       "      <td>0.32</td>\n",
       "      <td>0.40</td>\n",
       "      <td>0.33</td>\n",
       "      <td>0.45</td>\n",
       "      <td>0.45</td>\n",
       "      <td>0.32</td>\n",
       "      <td>-0.07</td>\n",
       "      <td>-0.37</td>\n",
       "      <td>-0.03</td>\n",
       "      <td>...</td>\n",
       "      <td>0.19</td>\n",
       "      <td>0.01</td>\n",
       "      <td>0.90</td>\n",
       "      <td>0.58</td>\n",
       "      <td>0.96</td>\n",
       "      <td>0.56</td>\n",
       "      <td>0.94</td>\n",
       "      <td>0.64</td>\n",
       "      <td>1.00</td>\n",
       "      <td>0.57</td>\n",
       "    </tr>\n",
       "    <tr>\n",
       "      <th>V012</th>\n",
       "      <td>0.05</td>\n",
       "      <td>0.11</td>\n",
       "      <td>0.08</td>\n",
       "      <td>0.09</td>\n",
       "      <td>0.08</td>\n",
       "      <td>0.08</td>\n",
       "      <td>0.02</td>\n",
       "      <td>-0.06</td>\n",
       "      <td>-0.07</td>\n",
       "      <td>-0.00</td>\n",
       "      <td>...</td>\n",
       "      <td>0.07</td>\n",
       "      <td>0.01</td>\n",
       "      <td>0.27</td>\n",
       "      <td>0.83</td>\n",
       "      <td>0.48</td>\n",
       "      <td>0.95</td>\n",
       "      <td>0.34</td>\n",
       "      <td>0.95</td>\n",
       "      <td>0.57</td>\n",
       "      <td>1.00</td>\n",
       "    </tr>\n",
       "  </tbody>\n",
       "</table>\n",
       "<p>22 rows × 22 columns</p>\n",
       "</div>"
      ],
      "text/plain": [
       "                Metragem  Quartos  Banheiros  Vagas  Valor_anuncio  Valor_mm  \\\n",
       "Metragem            1.00     0.23       0.23   0.27           0.30      0.30   \n",
       "Quartos             0.23     1.00       0.55   0.42           0.37      0.37   \n",
       "Banheiros           0.23     0.55       1.00   0.46           0.47      0.47   \n",
       "Vagas               0.27     0.42       0.46   1.00           0.48      0.48   \n",
       "Valor_anuncio       0.30     0.37       0.47   0.48           1.00      1.00   \n",
       "Valor_mm            0.30     0.37       0.47   0.48           1.00      1.00   \n",
       "Valor_m2            0.06     0.12       0.22   0.15           0.70      0.70   \n",
       "latitude           -0.09    -0.01      -0.03  -0.04           0.02      0.02   \n",
       "longitude          -0.13    -0.19      -0.25  -0.19          -0.21     -0.21   \n",
       "Situacao_setor      0.48    -0.01      -0.03  -0.01          -0.00     -0.00   \n",
       "V001               -0.13    -0.18      -0.22  -0.21          -0.22     -0.22   \n",
       "V002               -0.10    -0.15      -0.17  -0.15          -0.19     -0.19   \n",
       "V003                0.13     0.16       0.21   0.24           0.13      0.13   \n",
       "V004                0.05     0.07       0.07   0.09           0.08      0.08   \n",
       "V005                0.22     0.32       0.41   0.34           0.45      0.45   \n",
       "V006                0.07     0.12       0.11   0.11           0.11      0.11   \n",
       "V007                0.23     0.33       0.41   0.34           0.45      0.45   \n",
       "V008                0.05     0.11       0.08   0.08           0.07      0.07   \n",
       "V009                0.20     0.31       0.39   0.32           0.47      0.47   \n",
       "V010                0.07     0.13       0.11   0.12           0.13      0.13   \n",
       "V011                0.21     0.32       0.40   0.33           0.45      0.45   \n",
       "V012                0.05     0.11       0.08   0.09           0.08      0.08   \n",
       "\n",
       "                Valor_m2  latitude  longitude  Situacao_setor  ...  V003  \\\n",
       "Metragem            0.06     -0.09      -0.13            0.48  ...  0.13   \n",
       "Quartos             0.12     -0.01      -0.19           -0.01  ...  0.16   \n",
       "Banheiros           0.22     -0.03      -0.25           -0.03  ...  0.21   \n",
       "Vagas               0.15     -0.04      -0.19           -0.01  ...  0.24   \n",
       "Valor_anuncio       0.70      0.02      -0.21           -0.00  ...  0.13   \n",
       "Valor_mm            0.70      0.02      -0.21           -0.00  ...  0.13   \n",
       "Valor_m2            1.00      0.05      -0.18           -0.03  ... -0.13   \n",
       "latitude            0.05      1.00       0.15           -0.03  ... -0.05   \n",
       "longitude          -0.18      0.15       1.00           -0.01  ... -0.05   \n",
       "Situacao_setor     -0.03     -0.03      -0.01            1.00  ...  0.03   \n",
       "V001               -0.11     -0.00       0.31            0.02  ... -0.22   \n",
       "V002               -0.15     -0.02       0.30            0.03  ...  0.07   \n",
       "V003               -0.13     -0.05      -0.05            0.03  ...  1.00   \n",
       "V004                0.01      0.03       0.02            0.00  ...  0.41   \n",
       "V005                0.29     -0.05      -0.36           -0.03  ...  0.28   \n",
       "V006                0.04     -0.09      -0.10           -0.01  ...  0.08   \n",
       "V007                0.28     -0.07      -0.36           -0.03  ...  0.28   \n",
       "V008                0.02     -0.07      -0.07           -0.01  ...  0.06   \n",
       "V009                0.37     -0.04      -0.38           -0.04  ...  0.13   \n",
       "V010                0.05     -0.07      -0.10           -0.01  ...  0.10   \n",
       "V011                0.32     -0.07      -0.37           -0.03  ...  0.19   \n",
       "V012                0.02     -0.06      -0.07           -0.00  ...  0.07   \n",
       "\n",
       "                V004  V005  V006  V007  V008  V009  V010  V011  V012  \n",
       "Metragem        0.05  0.22  0.07  0.23  0.05  0.20  0.07  0.21  0.05  \n",
       "Quartos         0.07  0.32  0.12  0.33  0.11  0.31  0.13  0.32  0.11  \n",
       "Banheiros       0.07  0.41  0.11  0.41  0.08  0.39  0.11  0.40  0.08  \n",
       "Vagas           0.09  0.34  0.11  0.34  0.08  0.32  0.12  0.33  0.09  \n",
       "Valor_anuncio   0.08  0.45  0.11  0.45  0.07  0.47  0.13  0.45  0.08  \n",
       "Valor_mm        0.08  0.45  0.11  0.45  0.07  0.47  0.13  0.45  0.08  \n",
       "Valor_m2        0.01  0.29  0.04  0.28  0.02  0.37  0.05  0.32  0.02  \n",
       "latitude        0.03 -0.05 -0.09 -0.07 -0.07 -0.04 -0.07 -0.07 -0.06  \n",
       "longitude       0.02 -0.36 -0.10 -0.36 -0.07 -0.38 -0.10 -0.37 -0.07  \n",
       "Situacao_setor  0.00 -0.03 -0.01 -0.03 -0.01 -0.04 -0.01 -0.03 -0.00  \n",
       "V001           -0.12 -0.38 -0.10 -0.39 -0.10 -0.36 -0.13 -0.37 -0.11  \n",
       "V002            0.00 -0.33 -0.09 -0.34 -0.09 -0.35 -0.12 -0.35 -0.10  \n",
       "V003            0.41  0.28  0.08  0.28  0.06  0.13  0.10  0.19  0.07  \n",
       "V004            1.00  0.07  0.02  0.06  0.01 -0.01  0.02  0.01  0.01  \n",
       "V005            0.07  1.00  0.42  0.95  0.31  0.95  0.39  0.90  0.27  \n",
       "V006            0.02  0.42  1.00  0.56  0.93  0.42  0.89  0.58  0.83  \n",
       "V007            0.06  0.95  0.56  1.00  0.50  0.92  0.56  0.96  0.48  \n",
       "V008            0.01  0.31  0.93  0.50  1.00  0.33  0.91  0.56  0.95  \n",
       "V009           -0.01  0.95  0.42  0.92  0.33  1.00  0.45  0.94  0.34  \n",
       "V010            0.02  0.39  0.89  0.56  0.91  0.45  1.00  0.64  0.95  \n",
       "V011            0.01  0.90  0.58  0.96  0.56  0.94  0.64  1.00  0.57  \n",
       "V012            0.01  0.27  0.83  0.48  0.95  0.34  0.95  0.57  1.00  \n",
       "\n",
       "[22 rows x 22 columns]"
      ]
     },
     "execution_count": 11,
     "metadata": {},
     "output_type": "execute_result"
    }
   ],
   "source": [
    "dados_vendas_censo.corr()"
   ]
  },
  {
   "cell_type": "markdown",
   "metadata": {},
   "source": [
    "Criando um mapa de calor, com a correlação das variaveis, ou seja, quanto mais proximo de 1 mais azul é, e quanto mais proximo de -1 mais laranja é. No entanto, é visuazlizado apenas a parte inferior, porque a parte superior é apenas uma repetição das informações da parte inferior."
   ]
  },
  {
   "cell_type": "code",
   "execution_count": 12,
   "metadata": {
    "colab": {
     "base_uri": "https://localhost:8080/",
     "height": 587
    },
    "id": "s3TnNtg_50_2",
    "outputId": "3c0f2d38-db3d-4594-ebc6-443201c7813c"
   },
   "outputs": [
    {
     "data": {
      "image/png": "[encoded data removed]",
      "text/plain": [
       "<Figure size 1296x576 with 2 Axes>"
      ]
     },
     "metadata": {
      "needs_background": "light"
     },
     "output_type": "display_data"
    }
   ],
   "source": [
    "plt.figure(figsize=(18, 8))\n",
    "#https://www.tylervigen.com/spurious-correlations\n",
    "mask = np.triu(np.ones_like(dados_vendas_censo.corr(), dtype=bool))\n",
    "heatmap = sns.heatmap(dados_vendas_censo.corr(), mask=mask, vmin=-1, vmax=1, annot=True, cmap='BrBG')\n",
    "heatmap.set_title('Correlação', fontdict={'fontsize':18}, pad=16);"
   ]
  },
  {
   "cell_type": "code",
   "execution_count": 13,
   "metadata": {
    "id": "9PdLFs_DnMe2"
   },
   "outputs": [],
   "source": [
    "X = dados_vendas_censo[[\"Metragem\"]]\n",
    "Y = dados_vendas_censo[\"Valor_anuncio\"]"
   ]
  },
  {
   "cell_type": "code",
   "execution_count": 14,
   "metadata": {},
   "outputs": [],
   "source": [
    "X_train, X_test, Y_train, Y_test = train_test_split(X, Y, test_size = 0.25, random_state = 54)\n",
    "lr = LinearRegression()"
   ]
  },
  {
   "cell_type": "code",
   "execution_count": 15,
   "metadata": {
    "colab": {
     "base_uri": "https://localhost:8080/",
     "height": 424
    },
    "id": "WXa-AhwS5Ey7",
    "outputId": "46ec540a-2297-4904-8f62-d3be698ffb03"
   },
   "outputs": [
    {
     "data": {
      "text/html": [
       "<div>\n",
       "<style scoped>\n",
       "    .dataframe tbody tr th:only-of-type {\n",
       "        vertical-align: middle;\n",
       "    }\n",
       "\n",
       "    .dataframe tbody tr th {\n",
       "        vertical-align: top;\n",
       "    }\n",
       "\n",
       "    .dataframe thead th {\n",
       "        text-align: right;\n",
       "    }\n",
       "</style>\n",
       "<table border=\"1\" class=\"dataframe\">\n",
       "  <thead>\n",
       "    <tr style=\"text-align: right;\">\n",
       "      <th></th>\n",
       "      <th>Metragem</th>\n",
       "    </tr>\n",
       "  </thead>\n",
       "  <tbody>\n",
       "    <tr>\n",
       "      <th>3522</th>\n",
       "      <td>105</td>\n",
       "    </tr>\n",
       "    <tr>\n",
       "      <th>881</th>\n",
       "      <td>240</td>\n",
       "    </tr>\n",
       "    <tr>\n",
       "      <th>769</th>\n",
       "      <td>324</td>\n",
       "    </tr>\n",
       "    <tr>\n",
       "      <th>3364</th>\n",
       "      <td>484</td>\n",
       "    </tr>\n",
       "    <tr>\n",
       "      <th>4674</th>\n",
       "      <td>103</td>\n",
       "    </tr>\n",
       "    <tr>\n",
       "      <th>...</th>\n",
       "      <td>...</td>\n",
       "    </tr>\n",
       "    <tr>\n",
       "      <th>3558</th>\n",
       "      <td>397</td>\n",
       "    </tr>\n",
       "    <tr>\n",
       "      <th>3994</th>\n",
       "      <td>224</td>\n",
       "    </tr>\n",
       "    <tr>\n",
       "      <th>5432</th>\n",
       "      <td>238</td>\n",
       "    </tr>\n",
       "    <tr>\n",
       "      <th>4044</th>\n",
       "      <td>300</td>\n",
       "    </tr>\n",
       "    <tr>\n",
       "      <th>948</th>\n",
       "      <td>186</td>\n",
       "    </tr>\n",
       "  </tbody>\n",
       "</table>\n",
       "<p>3977 rows × 1 columns</p>\n",
       "</div>"
      ],
      "text/plain": [
       "      Metragem\n",
       "3522       105\n",
       "881        240\n",
       "769        324\n",
       "3364       484\n",
       "4674       103\n",
       "...        ...\n",
       "3558       397\n",
       "3994       224\n",
       "5432       238\n",
       "4044       300\n",
       "948        186\n",
       "\n",
       "[3977 rows x 1 columns]"
      ]
     },
     "execution_count": 15,
     "metadata": {},
     "output_type": "execute_result"
    }
   ],
   "source": [
    "X_train"
   ]
  },
  {
   "cell_type": "code",
   "execution_count": 16,
   "metadata": {
    "colab": {
     "base_uri": "https://localhost:8080/"
    },
    "id": "72bCZJHo2zED",
    "outputId": "ff4dd2b9-9ae5-4980-ee09-d7d39bb2b9ff"
   },
   "outputs": [
    {
     "data": {
      "text/html": [
       "<style>#sk-container-id-1 {color: black;background-color: white;}#sk-container-id-1 pre{padding: 0;}#sk-container-id-1 div.sk-toggleable {background-color: white;}#sk-container-id-1 label.sk-toggleable__label {cursor: pointer;display: block;width: 100%;margin-bottom: 0;padding: 0.3em;box-sizing: border-box;text-align: center;}#sk-container-id-1 label.sk-toggleable__label-arrow:before {content: \"▸\";float: left;margin-right: 0.25em;color: #696969;}#sk-container-id-1 label.sk-toggleable__label-arrow:hover:before {color: black;}#sk-container-id-1 div.sk-estimator:hover label.sk-toggleable__label-arrow:before {color: black;}#sk-container-id-1 div.sk-toggleable__content {max-height: 0;max-width: 0;overflow: hidden;text-align: left;background-color: #f0f8ff;}#sk-container-id-1 div.sk-toggleable__content pre {margin: 0.2em;color: black;border-radius: 0.25em;background-color: #f0f8ff;}#sk-container-id-1 input.sk-toggleable__control:checked~div.sk-toggleable__content {max-height: 200px;max-width: 100%;overflow: auto;}#sk-container-id-1 input.sk-toggleable__control:checked~label.sk-toggleable__label-arrow:before {content: \"▾\";}#sk-container-id-1 div.sk-estimator input.sk-toggleable__control:checked~label.sk-toggleable__label {background-color: #d4ebff;}#sk-container-id-1 div.sk-label input.sk-toggleable__control:checked~label.sk-toggleable__label {background-color: #d4ebff;}#sk-container-id-1 input.sk-hidden--visually {border: 0;clip: rect(1px 1px 1px 1px);clip: rect(1px, 1px, 1px, 1px);height: 1px;margin: -1px;overflow: hidden;padding: 0;position: absolute;width: 1px;}#sk-container-id-1 div.sk-estimator {font-family: monospace;background-color: #f0f8ff;border: 1px dotted black;border-radius: 0.25em;box-sizing: border-box;margin-bottom: 0.5em;}#sk-container-id-1 div.sk-estimator:hover {background-color: #d4ebff;}#sk-container-id-1 div.sk-parallel-item::after {content: \"\";width: 100%;border-bottom: 1px solid gray;flex-grow: 1;}#sk-container-id-1 div.sk-label:hover label.sk-toggleable__label {background-color: #d4ebff;}#sk-container-id-1 div.sk-serial::before {content: \"\";position: absolute;border-left: 1px solid gray;box-sizing: border-box;top: 0;bottom: 0;left: 50%;z-index: 0;}#sk-container-id-1 div.sk-serial {display: flex;flex-direction: column;align-items: center;background-color: white;padding-right: 0.2em;padding-left: 0.2em;position: relative;}#sk-container-id-1 div.sk-item {position: relative;z-index: 1;}#sk-container-id-1 div.sk-parallel {display: flex;align-items: stretch;justify-content: center;background-color: white;position: relative;}#sk-container-id-1 div.sk-item::before, #sk-container-id-1 div.sk-parallel-item::before {content: \"\";position: absolute;border-left: 1px solid gray;box-sizing: border-box;top: 0;bottom: 0;left: 50%;z-index: -1;}#sk-container-id-1 div.sk-parallel-item {display: flex;flex-direction: column;z-index: 1;position: relative;background-color: white;}#sk-container-id-1 div.sk-parallel-item:first-child::after {align-self: flex-end;width: 50%;}#sk-container-id-1 div.sk-parallel-item:last-child::after {align-self: flex-start;width: 50%;}#sk-container-id-1 div.sk-parallel-item:only-child::after {width: 0;}#sk-container-id-1 div.sk-dashed-wrapped {border: 1px dashed gray;margin: 0 0.4em 0.5em 0.4em;box-sizing: border-box;padding-bottom: 0.4em;background-color: white;}#sk-container-id-1 div.sk-label label {font-family: monospace;font-weight: bold;display: inline-block;line-height: 1.2em;}#sk-container-id-1 div.sk-label-container {text-align: center;}#sk-container-id-1 div.sk-container {/* jupyter's `normalize.less` sets `[hidden] { display: none; }` but bootstrap.min.css set `[hidden] { display: none !important; }` so we also need the `!important` here to be able to override the default hidden behavior on the sphinx rendered scikit-learn.org. See: https://github.com/scikit-learn/scikit-learn/issues/21755 */display: inline-block !important;position: relative;}#sk-container-id-1 div.sk-text-repr-fallback {display: none;}</style><div id=\"sk-container-id-1\" class=\"sk-top-container\"><div class=\"sk-text-repr-fallback\"><pre>LinearRegression()</pre><b>In a Jupyter environment, please rerun this cell to show the HTML representation or trust the notebook. <br />On GitHub, the HTML representation is unable to render, please try loading this page with nbviewer.org.</b></div><div class=\"sk-container\" hidden><div class=\"sk-item\"><div class=\"sk-estimator sk-toggleable\"><input class=\"sk-toggleable__control sk-hidden--visually\" id=\"sk-estimator-id-1\" type=\"checkbox\" checked><label for=\"sk-estimator-id-1\" class=\"sk-toggleable__label sk-toggleable__label-arrow\">LinearRegression</label><div class=\"sk-toggleable__content\"><pre>LinearRegression()</pre></div></div></div></div></div>"
      ],
      "text/plain": [
       "LinearRegression()"
      ]
     },
     "execution_count": 16,
     "metadata": {},
     "output_type": "execute_result"
    }
   ],
   "source": [
    "lr.fit(X_train, Y_train)"
   ]
  },
  {
   "cell_type": "code",
   "execution_count": 17,
   "metadata": {
    "id": "8J-j354221LX"
   },
   "outputs": [],
   "source": [
    "Y_predict_test = lr.predict(X_test)"
   ]
  },
  {
   "cell_type": "code",
   "execution_count": 18,
   "metadata": {
    "colab": {
     "base_uri": "https://localhost:8080/"
    },
    "id": "eil-6-wO522t",
    "outputId": "467312ba-65dc-4f28-d7dc-3e8010131a25"
   },
   "outputs": [
    {
     "data": {
      "text/plain": [
       "172    4500000.00\n",
       "4513    345000.00\n",
       "4865    800000.00\n",
       "4979   4000000.00\n",
       "1255   5100000.00\n",
       "          ...    \n",
       "5240   1600000.00\n",
       "4472    580000.00\n",
       "3291   2200000.00\n",
       "432    1500000.00\n",
       "2455   2800000.00\n",
       "Name: Valor_anuncio, Length: 1326, dtype: float64"
      ]
     },
     "execution_count": 18,
     "metadata": {},
     "output_type": "execute_result"
    }
   ],
   "source": [
    "Y_test"
   ]
  },
  {
   "cell_type": "code",
   "execution_count": 19,
   "metadata": {
    "id": "uPFr1DYn57g-"
   },
   "outputs": [],
   "source": [
    "Y_predict_train = lr.predict(X_train)"
   ]
  },
  {
   "cell_type": "code",
   "execution_count": 20,
   "metadata": {
    "colab": {
     "base_uri": "https://localhost:8080/"
    },
    "id": "CkM9eoXY6_ya",
    "outputId": "80febc78-c486-4428-a9b7-26e53a7be590"
   },
   "outputs": [
    {
     "data": {
      "text/plain": [
       "3522    692000.00\n",
       "881    1490000.00\n",
       "769    2100000.00\n",
       "3364   6700000.00\n",
       "4674    622500.00\n",
       "          ...    \n",
       "3558   4280000.00\n",
       "3994   1500000.00\n",
       "5432   2300000.00\n",
       "4044   1600000.00\n",
       "948    3280000.00\n",
       "Name: Valor_anuncio, Length: 3977, dtype: float64"
      ]
     },
     "execution_count": 20,
     "metadata": {},
     "output_type": "execute_result"
    }
   ],
   "source": [
    "Y_train"
   ]
  },
  {
   "cell_type": "code",
   "execution_count": 21,
   "metadata": {
    "colab": {
     "base_uri": "https://localhost:8080/"
    },
    "id": "CBeDPdD37Cxe",
    "outputId": "c71c6bb6-485e-41ba-ff53-a440caafc1fb"
   },
   "outputs": [
    {
     "data": {
      "text/plain": [
       "1770626.9062636306"
      ]
     },
     "execution_count": 21,
     "metadata": {},
     "output_type": "execute_result"
    }
   ],
   "source": [
    "mean_absolute_error(Y_test, Y_predict_test)"
   ]
  },
  {
   "cell_type": "code",
   "execution_count": 22,
   "metadata": {
    "colab": {
     "base_uri": "https://localhost:8080/"
    },
    "id": "1AgkJDQA8i5x",
    "outputId": "b8117641-e2b6-4dc0-9506-13e6ff91bdec"
   },
   "outputs": [
    {
     "data": {
      "text/plain": [
       "1825220.3034549057"
      ]
     },
     "execution_count": 22,
     "metadata": {},
     "output_type": "execute_result"
    }
   ],
   "source": [
    "mean_absolute_error(Y_train, Y_predict_train)"
   ]
  },
  {
   "cell_type": "code",
   "execution_count": 23,
   "metadata": {
    "id": "26xpDyxU8tQb"
   },
   "outputs": [],
   "source": [
    "X = dados_vendas_censo[['Metragem', 'Quartos', 'Banheiros', 'Vagas','V001','V007', 'V009']]\n",
    "Y = dados_vendas_censo[\"Valor_anuncio\"]"
   ]
  },
  {
   "cell_type": "code",
   "execution_count": 24,
   "metadata": {},
   "outputs": [],
   "source": [
    "X_train, X_test, Y_train, Y_test = train_test_split(X, Y, test_size = 0.25, random_state = 54)\n",
    "lr.fit(X_train, Y_train)\n",
    "Y_predict_test = lr.predict(X_test)\n",
    "Y_predict_train = lr.predict(X_train)\n",
    "mae_test = mean_absolute_error(Y_test, Y_predict_test)\n",
    "r2_test = r2_score(Y_test, Y_predict_test)\n",
    "mae_train = mean_absolute_error(Y_train, Y_predict_train)\n",
    "r2_train = r2_score(Y_train, Y_predict_train)"
   ]
  },
  {
   "cell_type": "code",
   "execution_count": 25,
   "metadata": {
    "colab": {
     "base_uri": "https://localhost:8080/"
    },
    "id": "azIE6AEm_zqd",
    "outputId": "f13bd012-f452-4e20-d345-ad326506d64b"
   },
   "outputs": [
    {
     "data": {
      "text/plain": [
       "1349590.3844325365"
      ]
     },
     "execution_count": 25,
     "metadata": {},
     "output_type": "execute_result"
    }
   ],
   "source": [
    "mae_test"
   ]
  },
  {
   "cell_type": "code",
   "execution_count": 26,
   "metadata": {
    "colab": {
     "base_uri": "https://localhost:8080/"
    },
    "id": "7C1STxU3_0s7",
    "outputId": "d459d8e7-9b7d-4de9-ba51-57c3737e140f"
   },
   "outputs": [
    {
     "data": {
      "text/plain": [
       "0.37745069254620556"
      ]
     },
     "execution_count": 26,
     "metadata": {},
     "output_type": "execute_result"
    }
   ],
   "source": [
    "r2_test"
   ]
  },
  {
   "cell_type": "code",
   "execution_count": 27,
   "metadata": {
    "colab": {
     "base_uri": "https://localhost:8080/"
    },
    "id": "4RzgpN3X_11e",
    "outputId": "5872159f-0474-4da1-9ca2-f764aa8719a1"
   },
   "outputs": [
    {
     "data": {
      "text/plain": [
       "1362945.6915047537"
      ]
     },
     "execution_count": 27,
     "metadata": {},
     "output_type": "execute_result"
    }
   ],
   "source": [
    "mae_train"
   ]
  },
  {
   "cell_type": "code",
   "execution_count": 28,
   "metadata": {
    "colab": {
     "base_uri": "https://localhost:8080/"
    },
    "id": "MvyxAOhsAjkb",
    "outputId": "9f3b57c4-a56a-4294-afe5-c80f0d4a3260"
   },
   "outputs": [
    {
     "data": {
      "text/plain": [
       "0.3989959278582331"
      ]
     },
     "execution_count": 28,
     "metadata": {},
     "output_type": "execute_result"
    }
   ],
   "source": [
    "r2_train"
   ]
  },
  {
   "cell_type": "code",
   "execution_count": 29,
   "metadata": {
    "colab": {
     "base_uri": "https://localhost:8080/"
    },
    "id": "HbHcAiUKB52R",
    "outputId": "eb5eb469-cd0c-47cd-b66d-f26a6671c72c"
   },
   "outputs": [
    {
     "data": {
      "text/plain": [
       "1349590.3844325365"
      ]
     },
     "execution_count": 29,
     "metadata": {},
     "output_type": "execute_result"
    }
   ],
   "source": [
    "mae_test"
   ]
  },
  {
   "cell_type": "code",
   "execution_count": 30,
   "metadata": {
    "colab": {
     "base_uri": "https://localhost:8080/"
    },
    "id": "0gNhJORRDO0L",
    "outputId": "c81a644f-18e7-42ff-a59a-2b9a5c4f7ad7"
   },
   "outputs": [
    {
     "data": {
      "text/plain": [
       "0.37745069254620556"
      ]
     },
     "execution_count": 30,
     "metadata": {},
     "output_type": "execute_result"
    }
   ],
   "source": [
    "r2_test"
   ]
  },
  {
   "cell_type": "code",
   "execution_count": 31,
   "metadata": {
    "colab": {
     "base_uri": "https://localhost:8080/",
     "height": 641
    },
    "id": "vHGugPiQBgxQ",
    "outputId": "cdda6e50-f104-455d-aad2-bcea966ea484"
   },
   "outputs": [
    {
     "data": {
      "text/plain": [
       "<AxesSubplot:xlabel='Valor_anuncio'>"
      ]
     },
     "execution_count": 31,
     "metadata": {},
     "output_type": "execute_result"
    },
    {
     "data": {
      "image/png": "[encoded data removed]",
      "text/plain": [
       "<Figure size 720x720 with 1 Axes>"
      ]
     },
     "metadata": {
      "needs_background": "light"
     },
     "output_type": "display_data"
    }
   ],
   "source": [
    "plt.figure(figsize=(10, 10))\n",
    "sns.scatterplot(x=Y_test, y=Y_predict_test)"
   ]
  },
  {
   "cell_type": "markdown",
   "metadata": {
    "id": "8t3reVrkEecX"
   },
   "source": [
    "# Desafio Aula 5"
   ]
  },
  {
   "cell_type": "markdown",
   "metadata": {
    "id": "nGfK8uFNDSkI"
   },
   "source": [
    "1 - Adicionar o valor \"real\" do m2 do imóvel. "
   ]
  },
  {
   "cell_type": "markdown",
   "metadata": {},
   "source": [
    "2 - Testar outro modelos de regressão. "
   ]
  },
  {
   "cell_type": "markdown",
   "metadata": {},
   "source": [
    "3 - Criar um modelo baseline com as features originais."
   ]
  },
  {
   "cell_type": "markdown",
   "metadata": {},
   "source": [
    "4 - Trabalhar um pouco mais nos dados e criar novas variáveis."
   ]
  },
  {
   "cell_type": "markdown",
   "metadata": {},
   "source": [
    "5 - Testar as predições para casos reais. "
   ]
  },
  {
   "cell_type": "markdown",
   "metadata": {},
   "source": [
    "6 - Criar um projeto com os resultados da imersão. Postar nas redes sociais mostrando o trabalho realizado."
   ]
  },
  {
   "cell_type": "code",
   "execution_count": null,
   "metadata": {},
   "outputs": [],
   "source": []
  }
 ],
 "metadata": {
  "colab": {
   "collapsed_sections": [],
   "name": "Imersao_dados_4_aula05.ipynb",
   "provenance": []
  },
  "kernelspec": {
   "display_name": "venv",
   "language": "python",
   "name": "venv"
  },
  "language_info": {
   "codemirror_mode": {
    "name": "ipython",
    "version": 3
   },
   "file_extension": ".py",
   "mimetype": "text/x-python",
   "name": "python",
   "nbconvert_exporter": "python",
   "pygments_lexer": "ipython3",
   "version": "3.9.10"
  }
 },
 "nbformat": 4,
 "nbformat_minor": 4
}
